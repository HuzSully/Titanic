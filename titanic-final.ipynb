{
 "cells": [
  {
   "cell_type": "code",
   "execution_count": 1,
   "id": "1e4632f0",
   "metadata": {
    "_cell_guid": "b1076dfc-b9ad-4769-8c92-a6c4dae69d19",
    "_uuid": "8f2839f25d086af736a60e9eeb907d3b93b6e0e5",
    "execution": {
     "iopub.execute_input": "2021-09-12T21:11:40.716868Z",
     "iopub.status.busy": "2021-09-12T21:11:40.715058Z",
     "iopub.status.idle": "2021-09-12T21:11:42.201910Z",
     "shell.execute_reply": "2021-09-12T21:11:42.202503Z",
     "shell.execute_reply.started": "2021-09-12T21:03:13.371486Z"
    },
    "papermill": {
     "duration": 1.574414,
     "end_time": "2021-09-12T21:11:42.202822",
     "exception": false,
     "start_time": "2021-09-12T21:11:40.628408",
     "status": "completed"
    },
    "tags": []
   },
   "outputs": [
    {
     "name": "stdout",
     "output_type": "stream",
     "text": [
      "/kaggle/input/titanic/train.csv\n",
      "/kaggle/input/titanic/test.csv\n",
      "/kaggle/input/titanic/gender_submission.csv\n"
     ]
    }
   ],
   "source": [
    "# This Python 3 environment comes with many helpful analytics libraries installed\n",
    "# It is defined by the kaggle/python Docker image: https://github.com/kaggle/docker-python\n",
    "# For example, here's several helpful packages to load\n",
    "\n",
    "import numpy as np # linear algebra\n",
    "import pandas as pd # data processing, CSV file I/O (e.g. pd.read_csv)\n",
    "pd.set_option('display.max_rows', 100)\n",
    "pd.set_option('display.max_columns', 500)\n",
    "pd.set_option('display.width', 1000)\n",
    "\n",
    "# Visualization \n",
    "import matplotlib.pyplot as plt\n",
    "import missingno\n",
    "import seaborn as sns\n",
    "plt.style.use('seaborn-whitegrid')\n",
    "\n",
    "# Preprocessing\n",
    "from sklearn.preprocessing import OneHotEncoder, LabelEncoder, label_binarize\n",
    "\n",
    "# Machine learning\n",
    "import catboost\n",
    "from sklearn.model_selection import train_test_split\n",
    "from sklearn import model_selection, tree, preprocessing, metrics, linear_model\n",
    "from sklearn.svm import LinearSVC\n",
    "from sklearn.ensemble import GradientBoostingClassifier\n",
    "from sklearn.neighbors import KNeighborsClassifier\n",
    "from sklearn.naive_bayes import GaussianNB\n",
    "from sklearn.linear_model import LinearRegression, LogisticRegression, SGDClassifier\n",
    "from sklearn.tree import DecisionTreeClassifier\n",
    "from catboost import CatBoostClassifier, Pool, cv\n",
    "\n",
    "\n",
    "# Input data files are available in the read-only \"../input/\" directory\n",
    "# For example, running this (by clicking run or pressing Shift+Enter) will list all files under the input directory\n",
    "\n",
    "import os\n",
    "for dirname, _, filenames in os.walk('/kaggle/input'):\n",
    "    for filename in filenames:\n",
    "        print(os.path.join(dirname, filename))\n",
    "\n",
    "# You can write up to 20GB to the current directory (/kaggle/working/) that gets preserved as output when you create a version using \"Save & Run All\" \n",
    "# You can also write temporary files to /kaggle/temp/, but they won't be saved outside of the current session"
   ]
  },
  {
   "cell_type": "code",
   "execution_count": 2,
   "id": "28e52ea3",
   "metadata": {
    "execution": {
     "iopub.execute_input": "2021-09-12T21:11:42.368175Z",
     "iopub.status.busy": "2021-09-12T21:11:42.367204Z",
     "iopub.status.idle": "2021-09-12T21:11:42.404776Z",
     "shell.execute_reply": "2021-09-12T21:11:42.404149Z",
     "shell.execute_reply.started": "2021-09-12T21:03:14.785197Z"
    },
    "papermill": {
     "duration": 0.12089,
     "end_time": "2021-09-12T21:11:42.404944",
     "exception": false,
     "start_time": "2021-09-12T21:11:42.284054",
     "status": "completed"
    },
    "tags": []
   },
   "outputs": [],
   "source": [
    "# Import train & test data \n",
    "train = pd.read_csv(\"/kaggle/input/titanic/train.csv\")\n",
    "test = pd.read_csv(\"/kaggle/input/titanic/test.csv\")\n",
    "gender_submission = pd.read_csv(\"/kaggle/input/titanic/gender_submission.csv\") # example of what a submission should look like"
   ]
  },
  {
   "cell_type": "markdown",
   "id": "645f397b",
   "metadata": {
    "papermill": {
     "duration": 0.079241,
     "end_time": "2021-09-12T21:11:42.564662",
     "exception": false,
     "start_time": "2021-09-12T21:11:42.485421",
     "status": "completed"
    },
    "tags": []
   },
   "source": [
    "## Understand shape of the data (histograms, box plots etc)\n",
    "    .info(), .describe(), historgrams, boxplots, value counts for catgroicals"
   ]
  },
  {
   "cell_type": "code",
   "execution_count": 3,
   "id": "2ed2bef2",
   "metadata": {
    "execution": {
     "iopub.execute_input": "2021-09-12T21:11:42.732169Z",
     "iopub.status.busy": "2021-09-12T21:11:42.731497Z",
     "iopub.status.idle": "2021-09-12T21:11:42.750291Z",
     "shell.execute_reply": "2021-09-12T21:11:42.750774Z",
     "shell.execute_reply.started": "2021-09-12T21:03:14.828724Z"
    },
    "papermill": {
     "duration": 0.106062,
     "end_time": "2021-09-12T21:11:42.750954",
     "exception": false,
     "start_time": "2021-09-12T21:11:42.644892",
     "status": "completed"
    },
    "tags": []
   },
   "outputs": [
    {
     "data": {
      "text/html": [
       "<div>\n",
       "<style scoped>\n",
       "    .dataframe tbody tr th:only-of-type {\n",
       "        vertical-align: middle;\n",
       "    }\n",
       "\n",
       "    .dataframe tbody tr th {\n",
       "        vertical-align: top;\n",
       "    }\n",
       "\n",
       "    .dataframe thead th {\n",
       "        text-align: right;\n",
       "    }\n",
       "</style>\n",
       "<table border=\"1\" class=\"dataframe\">\n",
       "  <thead>\n",
       "    <tr style=\"text-align: right;\">\n",
       "      <th></th>\n",
       "      <th>PassengerId</th>\n",
       "      <th>Survived</th>\n",
       "      <th>Pclass</th>\n",
       "      <th>Name</th>\n",
       "      <th>Sex</th>\n",
       "      <th>Age</th>\n",
       "      <th>SibSp</th>\n",
       "      <th>Parch</th>\n",
       "      <th>Ticket</th>\n",
       "      <th>Fare</th>\n",
       "      <th>Cabin</th>\n",
       "      <th>Embarked</th>\n",
       "    </tr>\n",
       "  </thead>\n",
       "  <tbody>\n",
       "    <tr>\n",
       "      <th>0</th>\n",
       "      <td>1</td>\n",
       "      <td>0</td>\n",
       "      <td>3</td>\n",
       "      <td>Braund, Mr. Owen Harris</td>\n",
       "      <td>male</td>\n",
       "      <td>22.0</td>\n",
       "      <td>1</td>\n",
       "      <td>0</td>\n",
       "      <td>A/5 21171</td>\n",
       "      <td>7.2500</td>\n",
       "      <td>NaN</td>\n",
       "      <td>S</td>\n",
       "    </tr>\n",
       "    <tr>\n",
       "      <th>1</th>\n",
       "      <td>2</td>\n",
       "      <td>1</td>\n",
       "      <td>1</td>\n",
       "      <td>Cumings, Mrs. John Bradley (Florence Briggs Th...</td>\n",
       "      <td>female</td>\n",
       "      <td>38.0</td>\n",
       "      <td>1</td>\n",
       "      <td>0</td>\n",
       "      <td>PC 17599</td>\n",
       "      <td>71.2833</td>\n",
       "      <td>C85</td>\n",
       "      <td>C</td>\n",
       "    </tr>\n",
       "    <tr>\n",
       "      <th>2</th>\n",
       "      <td>3</td>\n",
       "      <td>1</td>\n",
       "      <td>3</td>\n",
       "      <td>Heikkinen, Miss. Laina</td>\n",
       "      <td>female</td>\n",
       "      <td>26.0</td>\n",
       "      <td>0</td>\n",
       "      <td>0</td>\n",
       "      <td>STON/O2. 3101282</td>\n",
       "      <td>7.9250</td>\n",
       "      <td>NaN</td>\n",
       "      <td>S</td>\n",
       "    </tr>\n",
       "    <tr>\n",
       "      <th>3</th>\n",
       "      <td>4</td>\n",
       "      <td>1</td>\n",
       "      <td>1</td>\n",
       "      <td>Futrelle, Mrs. Jacques Heath (Lily May Peel)</td>\n",
       "      <td>female</td>\n",
       "      <td>35.0</td>\n",
       "      <td>1</td>\n",
       "      <td>0</td>\n",
       "      <td>113803</td>\n",
       "      <td>53.1000</td>\n",
       "      <td>C123</td>\n",
       "      <td>S</td>\n",
       "    </tr>\n",
       "    <tr>\n",
       "      <th>4</th>\n",
       "      <td>5</td>\n",
       "      <td>0</td>\n",
       "      <td>3</td>\n",
       "      <td>Allen, Mr. William Henry</td>\n",
       "      <td>male</td>\n",
       "      <td>35.0</td>\n",
       "      <td>0</td>\n",
       "      <td>0</td>\n",
       "      <td>373450</td>\n",
       "      <td>8.0500</td>\n",
       "      <td>NaN</td>\n",
       "      <td>S</td>\n",
       "    </tr>\n",
       "  </tbody>\n",
       "</table>\n",
       "</div>"
      ],
      "text/plain": [
       "   PassengerId  Survived  Pclass                                               Name     Sex   Age  SibSp  Parch            Ticket     Fare Cabin Embarked\n",
       "0            1         0       3                            Braund, Mr. Owen Harris    male  22.0      1      0         A/5 21171   7.2500   NaN        S\n",
       "1            2         1       1  Cumings, Mrs. John Bradley (Florence Briggs Th...  female  38.0      1      0          PC 17599  71.2833   C85        C\n",
       "2            3         1       3                             Heikkinen, Miss. Laina  female  26.0      0      0  STON/O2. 3101282   7.9250   NaN        S\n",
       "3            4         1       1       Futrelle, Mrs. Jacques Heath (Lily May Peel)  female  35.0      1      0            113803  53.1000  C123        S\n",
       "4            5         0       3                           Allen, Mr. William Henry    male  35.0      0      0            373450   8.0500   NaN        S"
      ]
     },
     "execution_count": 3,
     "metadata": {},
     "output_type": "execute_result"
    }
   ],
   "source": [
    "train.head()"
   ]
  },
  {
   "cell_type": "code",
   "execution_count": 4,
   "id": "d037767b",
   "metadata": {
    "execution": {
     "iopub.execute_input": "2021-09-12T21:11:42.913274Z",
     "iopub.status.busy": "2021-09-12T21:11:42.912638Z",
     "iopub.status.idle": "2021-09-12T21:11:42.927761Z",
     "shell.execute_reply": "2021-09-12T21:11:42.927207Z",
     "shell.execute_reply.started": "2021-09-12T21:03:14.853903Z"
    },
    "papermill": {
     "duration": 0.097357,
     "end_time": "2021-09-12T21:11:42.927906",
     "exception": false,
     "start_time": "2021-09-12T21:11:42.830549",
     "status": "completed"
    },
    "tags": []
   },
   "outputs": [
    {
     "data": {
      "text/html": [
       "<div>\n",
       "<style scoped>\n",
       "    .dataframe tbody tr th:only-of-type {\n",
       "        vertical-align: middle;\n",
       "    }\n",
       "\n",
       "    .dataframe tbody tr th {\n",
       "        vertical-align: top;\n",
       "    }\n",
       "\n",
       "    .dataframe thead th {\n",
       "        text-align: right;\n",
       "    }\n",
       "</style>\n",
       "<table border=\"1\" class=\"dataframe\">\n",
       "  <thead>\n",
       "    <tr style=\"text-align: right;\">\n",
       "      <th></th>\n",
       "      <th>PassengerId</th>\n",
       "      <th>Pclass</th>\n",
       "      <th>Name</th>\n",
       "      <th>Sex</th>\n",
       "      <th>Age</th>\n",
       "      <th>SibSp</th>\n",
       "      <th>Parch</th>\n",
       "      <th>Ticket</th>\n",
       "      <th>Fare</th>\n",
       "      <th>Cabin</th>\n",
       "      <th>Embarked</th>\n",
       "    </tr>\n",
       "  </thead>\n",
       "  <tbody>\n",
       "    <tr>\n",
       "      <th>0</th>\n",
       "      <td>892</td>\n",
       "      <td>3</td>\n",
       "      <td>Kelly, Mr. James</td>\n",
       "      <td>male</td>\n",
       "      <td>34.5</td>\n",
       "      <td>0</td>\n",
       "      <td>0</td>\n",
       "      <td>330911</td>\n",
       "      <td>7.8292</td>\n",
       "      <td>NaN</td>\n",
       "      <td>Q</td>\n",
       "    </tr>\n",
       "    <tr>\n",
       "      <th>1</th>\n",
       "      <td>893</td>\n",
       "      <td>3</td>\n",
       "      <td>Wilkes, Mrs. James (Ellen Needs)</td>\n",
       "      <td>female</td>\n",
       "      <td>47.0</td>\n",
       "      <td>1</td>\n",
       "      <td>0</td>\n",
       "      <td>363272</td>\n",
       "      <td>7.0000</td>\n",
       "      <td>NaN</td>\n",
       "      <td>S</td>\n",
       "    </tr>\n",
       "    <tr>\n",
       "      <th>2</th>\n",
       "      <td>894</td>\n",
       "      <td>2</td>\n",
       "      <td>Myles, Mr. Thomas Francis</td>\n",
       "      <td>male</td>\n",
       "      <td>62.0</td>\n",
       "      <td>0</td>\n",
       "      <td>0</td>\n",
       "      <td>240276</td>\n",
       "      <td>9.6875</td>\n",
       "      <td>NaN</td>\n",
       "      <td>Q</td>\n",
       "    </tr>\n",
       "    <tr>\n",
       "      <th>3</th>\n",
       "      <td>895</td>\n",
       "      <td>3</td>\n",
       "      <td>Wirz, Mr. Albert</td>\n",
       "      <td>male</td>\n",
       "      <td>27.0</td>\n",
       "      <td>0</td>\n",
       "      <td>0</td>\n",
       "      <td>315154</td>\n",
       "      <td>8.6625</td>\n",
       "      <td>NaN</td>\n",
       "      <td>S</td>\n",
       "    </tr>\n",
       "    <tr>\n",
       "      <th>4</th>\n",
       "      <td>896</td>\n",
       "      <td>3</td>\n",
       "      <td>Hirvonen, Mrs. Alexander (Helga E Lindqvist)</td>\n",
       "      <td>female</td>\n",
       "      <td>22.0</td>\n",
       "      <td>1</td>\n",
       "      <td>1</td>\n",
       "      <td>3101298</td>\n",
       "      <td>12.2875</td>\n",
       "      <td>NaN</td>\n",
       "      <td>S</td>\n",
       "    </tr>\n",
       "  </tbody>\n",
       "</table>\n",
       "</div>"
      ],
      "text/plain": [
       "   PassengerId  Pclass                                          Name     Sex   Age  SibSp  Parch   Ticket     Fare Cabin Embarked\n",
       "0          892       3                              Kelly, Mr. James    male  34.5      0      0   330911   7.8292   NaN        Q\n",
       "1          893       3              Wilkes, Mrs. James (Ellen Needs)  female  47.0      1      0   363272   7.0000   NaN        S\n",
       "2          894       2                     Myles, Mr. Thomas Francis    male  62.0      0      0   240276   9.6875   NaN        Q\n",
       "3          895       3                              Wirz, Mr. Albert    male  27.0      0      0   315154   8.6625   NaN        S\n",
       "4          896       3  Hirvonen, Mrs. Alexander (Helga E Lindqvist)  female  22.0      1      1  3101298  12.2875   NaN        S"
      ]
     },
     "execution_count": 4,
     "metadata": {},
     "output_type": "execute_result"
    }
   ],
   "source": [
    "test.head()"
   ]
  },
  {
   "cell_type": "code",
   "execution_count": 5,
   "id": "ffb29b3f",
   "metadata": {
    "execution": {
     "iopub.execute_input": "2021-09-12T21:11:43.092137Z",
     "iopub.status.busy": "2021-09-12T21:11:43.091482Z",
     "iopub.status.idle": "2021-09-12T21:11:43.100371Z",
     "shell.execute_reply": "2021-09-12T21:11:43.099848Z",
     "shell.execute_reply.started": "2021-09-12T21:03:14.868492Z"
    },
    "papermill": {
     "duration": 0.091948,
     "end_time": "2021-09-12T21:11:43.100503",
     "exception": false,
     "start_time": "2021-09-12T21:11:43.008555",
     "status": "completed"
    },
    "tags": []
   },
   "outputs": [
    {
     "data": {
      "text/html": [
       "<div>\n",
       "<style scoped>\n",
       "    .dataframe tbody tr th:only-of-type {\n",
       "        vertical-align: middle;\n",
       "    }\n",
       "\n",
       "    .dataframe tbody tr th {\n",
       "        vertical-align: top;\n",
       "    }\n",
       "\n",
       "    .dataframe thead th {\n",
       "        text-align: right;\n",
       "    }\n",
       "</style>\n",
       "<table border=\"1\" class=\"dataframe\">\n",
       "  <thead>\n",
       "    <tr style=\"text-align: right;\">\n",
       "      <th></th>\n",
       "      <th>PassengerId</th>\n",
       "      <th>Survived</th>\n",
       "    </tr>\n",
       "  </thead>\n",
       "  <tbody>\n",
       "    <tr>\n",
       "      <th>0</th>\n",
       "      <td>892</td>\n",
       "      <td>0</td>\n",
       "    </tr>\n",
       "    <tr>\n",
       "      <th>1</th>\n",
       "      <td>893</td>\n",
       "      <td>1</td>\n",
       "    </tr>\n",
       "    <tr>\n",
       "      <th>2</th>\n",
       "      <td>894</td>\n",
       "      <td>0</td>\n",
       "    </tr>\n",
       "    <tr>\n",
       "      <th>3</th>\n",
       "      <td>895</td>\n",
       "      <td>0</td>\n",
       "    </tr>\n",
       "    <tr>\n",
       "      <th>4</th>\n",
       "      <td>896</td>\n",
       "      <td>1</td>\n",
       "    </tr>\n",
       "  </tbody>\n",
       "</table>\n",
       "</div>"
      ],
      "text/plain": [
       "   PassengerId  Survived\n",
       "0          892         0\n",
       "1          893         1\n",
       "2          894         0\n",
       "3          895         0\n",
       "4          896         1"
      ]
     },
     "execution_count": 5,
     "metadata": {},
     "output_type": "execute_result"
    }
   ],
   "source": [
    "gender_submission.head()"
   ]
  },
  {
   "cell_type": "code",
   "execution_count": 6,
   "id": "a1709454",
   "metadata": {
    "execution": {
     "iopub.execute_input": "2021-09-12T21:11:43.269657Z",
     "iopub.status.busy": "2021-09-12T21:11:43.268705Z",
     "iopub.status.idle": "2021-09-12T21:11:43.678842Z",
     "shell.execute_reply": "2021-09-12T21:11:43.679298Z",
     "shell.execute_reply.started": "2021-09-12T21:03:14.882826Z"
    },
    "papermill": {
     "duration": 0.49771,
     "end_time": "2021-09-12T21:11:43.679467",
     "exception": false,
     "start_time": "2021-09-12T21:11:43.181757",
     "status": "completed"
    },
    "tags": []
   },
   "outputs": [
    {
     "data": {
      "text/plain": [
       "<AxesSubplot:ylabel='Frequency'>"
      ]
     },
     "execution_count": 6,
     "metadata": {},
     "output_type": "execute_result"
    },
    {
     "data": {
      "image/png": "[encoded data removed]",
      "text/plain": [
       "<Figure size 432x288 with 1 Axes>"
      ]
     },
     "metadata": {},
     "output_type": "display_data"
    }
   ],
   "source": [
    "train.Age.plot.hist()"
   ]
  },
  {
   "cell_type": "markdown",
   "id": "c0ee293f",
   "metadata": {
    "papermill": {
     "duration": 0.081589,
     "end_time": "2021-09-12T21:11:43.842719",
     "exception": false,
     "start_time": "2021-09-12T21:11:43.761130",
     "status": "completed"
    },
    "tags": []
   },
   "source": [
    "Survival: 0 = No, 1 = Yes\n",
    "\n",
    "pclass (Ticket class): 1 = 1st, 2 = 2nd, 3 = 3rd\n",
    "\n",
    "sex: Sex\n",
    "\n",
    "Age: Age in years\n",
    "\n",
    "sibsp: number of siblings/spouses aboard the Titanic\n",
    "\n",
    "parch: number of parents/children aboard the Titanic\n",
    "\n",
    "ticket: Ticket number\n",
    "\n",
    "fare: Passenger fare\n",
    "\n",
    "cabin: Cabin number\n",
    "\n",
    "embarked: Port of Embarkation, C = Cherbourg, Q = Queenstown, S = Southampton"
   ]
  },
  {
   "cell_type": "code",
   "execution_count": 7,
   "id": "de8081ec",
   "metadata": {
    "execution": {
     "iopub.execute_input": "2021-09-12T21:11:44.017439Z",
     "iopub.status.busy": "2021-09-12T21:11:44.016790Z",
     "iopub.status.idle": "2021-09-12T21:11:44.044066Z",
     "shell.execute_reply": "2021-09-12T21:11:44.043476Z",
     "shell.execute_reply.started": "2021-09-12T21:03:15.280285Z"
    },
    "papermill": {
     "duration": 0.119109,
     "end_time": "2021-09-12T21:11:44.044219",
     "exception": false,
     "start_time": "2021-09-12T21:11:43.925110",
     "status": "completed"
    },
    "tags": []
   },
   "outputs": [
    {
     "data": {
      "text/html": [
       "<div>\n",
       "<style scoped>\n",
       "    .dataframe tbody tr th:only-of-type {\n",
       "        vertical-align: middle;\n",
       "    }\n",
       "\n",
       "    .dataframe tbody tr th {\n",
       "        vertical-align: top;\n",
       "    }\n",
       "\n",
       "    .dataframe thead th {\n",
       "        text-align: right;\n",
       "    }\n",
       "</style>\n",
       "<table border=\"1\" class=\"dataframe\">\n",
       "  <thead>\n",
       "    <tr style=\"text-align: right;\">\n",
       "      <th></th>\n",
       "      <th>PassengerId</th>\n",
       "      <th>Survived</th>\n",
       "      <th>Pclass</th>\n",
       "      <th>Age</th>\n",
       "      <th>SibSp</th>\n",
       "      <th>Parch</th>\n",
       "      <th>Fare</th>\n",
       "    </tr>\n",
       "  </thead>\n",
       "  <tbody>\n",
       "    <tr>\n",
       "      <th>count</th>\n",
       "      <td>891.000000</td>\n",
       "      <td>891.000000</td>\n",
       "      <td>891.000000</td>\n",
       "      <td>714.000000</td>\n",
       "      <td>891.000000</td>\n",
       "      <td>891.000000</td>\n",
       "      <td>891.000000</td>\n",
       "    </tr>\n",
       "    <tr>\n",
       "      <th>mean</th>\n",
       "      <td>446.000000</td>\n",
       "      <td>0.383838</td>\n",
       "      <td>2.308642</td>\n",
       "      <td>29.699118</td>\n",
       "      <td>0.523008</td>\n",
       "      <td>0.381594</td>\n",
       "      <td>32.204208</td>\n",
       "    </tr>\n",
       "    <tr>\n",
       "      <th>std</th>\n",
       "      <td>257.353842</td>\n",
       "      <td>0.486592</td>\n",
       "      <td>0.836071</td>\n",
       "      <td>14.526497</td>\n",
       "      <td>1.102743</td>\n",
       "      <td>0.806057</td>\n",
       "      <td>49.693429</td>\n",
       "    </tr>\n",
       "    <tr>\n",
       "      <th>min</th>\n",
       "      <td>1.000000</td>\n",
       "      <td>0.000000</td>\n",
       "      <td>1.000000</td>\n",
       "      <td>0.420000</td>\n",
       "      <td>0.000000</td>\n",
       "      <td>0.000000</td>\n",
       "      <td>0.000000</td>\n",
       "    </tr>\n",
       "    <tr>\n",
       "      <th>25%</th>\n",
       "      <td>223.500000</td>\n",
       "      <td>0.000000</td>\n",
       "      <td>2.000000</td>\n",
       "      <td>20.125000</td>\n",
       "      <td>0.000000</td>\n",
       "      <td>0.000000</td>\n",
       "      <td>7.910400</td>\n",
       "    </tr>\n",
       "    <tr>\n",
       "      <th>50%</th>\n",
       "      <td>446.000000</td>\n",
       "      <td>0.000000</td>\n",
       "      <td>3.000000</td>\n",
       "      <td>28.000000</td>\n",
       "      <td>0.000000</td>\n",
       "      <td>0.000000</td>\n",
       "      <td>14.454200</td>\n",
       "    </tr>\n",
       "    <tr>\n",
       "      <th>75%</th>\n",
       "      <td>668.500000</td>\n",
       "      <td>1.000000</td>\n",
       "      <td>3.000000</td>\n",
       "      <td>38.000000</td>\n",
       "      <td>1.000000</td>\n",
       "      <td>0.000000</td>\n",
       "      <td>31.000000</td>\n",
       "    </tr>\n",
       "    <tr>\n",
       "      <th>max</th>\n",
       "      <td>891.000000</td>\n",
       "      <td>1.000000</td>\n",
       "      <td>3.000000</td>\n",
       "      <td>80.000000</td>\n",
       "      <td>8.000000</td>\n",
       "      <td>6.000000</td>\n",
       "      <td>512.329200</td>\n",
       "    </tr>\n",
       "  </tbody>\n",
       "</table>\n",
       "</div>"
      ],
      "text/plain": [
       "       PassengerId    Survived      Pclass         Age       SibSp       Parch        Fare\n",
       "count   891.000000  891.000000  891.000000  714.000000  891.000000  891.000000  891.000000\n",
       "mean    446.000000    0.383838    2.308642   29.699118    0.523008    0.381594   32.204208\n",
       "std     257.353842    0.486592    0.836071   14.526497    1.102743    0.806057   49.693429\n",
       "min       1.000000    0.000000    1.000000    0.420000    0.000000    0.000000    0.000000\n",
       "25%     223.500000    0.000000    2.000000   20.125000    0.000000    0.000000    7.910400\n",
       "50%     446.000000    0.000000    3.000000   28.000000    0.000000    0.000000   14.454200\n",
       "75%     668.500000    1.000000    3.000000   38.000000    1.000000    0.000000   31.000000\n",
       "max     891.000000    1.000000    3.000000   80.000000    8.000000    6.000000  512.329200"
      ]
     },
     "execution_count": 7,
     "metadata": {},
     "output_type": "execute_result"
    }
   ],
   "source": [
    "train.describe()"
   ]
  },
  {
   "cell_type": "code",
   "execution_count": 8,
   "id": "65e29775",
   "metadata": {
    "execution": {
     "iopub.execute_input": "2021-09-12T21:11:44.216500Z",
     "iopub.status.busy": "2021-09-12T21:11:44.215788Z",
     "iopub.status.idle": "2021-09-12T21:11:44.757280Z",
     "shell.execute_reply": "2021-09-12T21:11:44.756611Z",
     "shell.execute_reply.started": "2021-09-12T21:03:15.314724Z"
    },
    "papermill": {
     "duration": 0.629945,
     "end_time": "2021-09-12T21:11:44.757439",
     "exception": false,
     "start_time": "2021-09-12T21:11:44.127494",
     "status": "completed"
    },
    "tags": []
   },
   "outputs": [
    {
     "data": {
      "text/plain": [
       "<AxesSubplot:>"
      ]
     },
     "execution_count": 8,
     "metadata": {},
     "output_type": "execute_result"
    },
    {
     "data": {
      "image/png": "[encoded data removed]",
      "text/plain": [
       "<Figure size 2160x720 with 2 Axes>"
      ]
     },
     "metadata": {},
     "output_type": "display_data"
    }
   ],
   "source": [
    "# Plot graphic of missing values\n",
    "missingno.matrix(train, figsize = (30,10))"
   ]
  },
  {
   "cell_type": "code",
   "execution_count": 9,
   "id": "b119a9e5",
   "metadata": {
    "execution": {
     "iopub.execute_input": "2021-09-12T21:11:44.937212Z",
     "iopub.status.busy": "2021-09-12T21:11:44.936503Z",
     "iopub.status.idle": "2021-09-12T21:11:44.939208Z",
     "shell.execute_reply": "2021-09-12T21:11:44.939679Z",
     "shell.execute_reply.started": "2021-09-12T21:03:15.956233Z"
    },
    "papermill": {
     "duration": 0.09581,
     "end_time": "2021-09-12T21:11:44.939856",
     "exception": false,
     "start_time": "2021-09-12T21:11:44.844046",
     "status": "completed"
    },
    "tags": []
   },
   "outputs": [
    {
     "data": {
      "text/plain": [
       "PassengerId      0\n",
       "Survived         0\n",
       "Pclass           0\n",
       "Name             0\n",
       "Sex              0\n",
       "Age            177\n",
       "SibSp            0\n",
       "Parch            0\n",
       "Ticket           0\n",
       "Fare             0\n",
       "Cabin          687\n",
       "Embarked         2\n",
       "dtype: int64"
      ]
     },
     "execution_count": 9,
     "metadata": {},
     "output_type": "execute_result"
    }
   ],
   "source": [
    "# Alternatively, you can see the number of missing values like this\n",
    "train.isnull().sum()"
   ]
  },
  {
   "cell_type": "markdown",
   "id": "813b7a85",
   "metadata": {
    "papermill": {
     "duration": 0.085589,
     "end_time": "2021-09-12T21:11:45.111038",
     "exception": false,
     "start_time": "2021-09-12T21:11:45.025449",
     "status": "completed"
    },
    "tags": []
   },
   "source": [
    "#### To perform our data analysis, let's create two new dataframes\n",
    "We'll create one for exploring discretised continuous variables (continuous variables which have been sorted into some kind of category) and another for exploring continuous variables.\n",
    "\n"
   ]
  },
  {
   "cell_type": "code",
   "execution_count": 10,
   "id": "1d2134fa",
   "metadata": {
    "execution": {
     "iopub.execute_input": "2021-09-12T21:11:45.285550Z",
     "iopub.status.busy": "2021-09-12T21:11:45.284914Z",
     "iopub.status.idle": "2021-09-12T21:11:45.289890Z",
     "shell.execute_reply": "2021-09-12T21:11:45.290472Z",
     "shell.execute_reply.started": "2021-09-12T21:03:15.967209Z"
    },
    "papermill": {
     "duration": 0.094034,
     "end_time": "2021-09-12T21:11:45.290651",
     "exception": false,
     "start_time": "2021-09-12T21:11:45.196617",
     "status": "completed"
    },
    "tags": []
   },
   "outputs": [],
   "source": [
    "df_bin = pd.DataFrame() # for discretised continuous variables\n",
    "df_con = pd.DataFrame() # for continuous variables\n",
    "df_bin_test = pd.DataFrame()"
   ]
  },
  {
   "cell_type": "code",
   "execution_count": 11,
   "id": "d65f394d",
   "metadata": {
    "execution": {
     "iopub.execute_input": "2021-09-12T21:11:45.466845Z",
     "iopub.status.busy": "2021-09-12T21:11:45.465886Z",
     "iopub.status.idle": "2021-09-12T21:11:45.472432Z",
     "shell.execute_reply": "2021-09-12T21:11:45.472887Z",
     "shell.execute_reply.started": "2021-09-12T21:03:15.973530Z"
    },
    "papermill": {
     "duration": 0.095739,
     "end_time": "2021-09-12T21:11:45.473054",
     "exception": false,
     "start_time": "2021-09-12T21:11:45.377315",
     "status": "completed"
    },
    "tags": []
   },
   "outputs": [
    {
     "data": {
      "text/plain": [
       "PassengerId      int64\n",
       "Survived         int64\n",
       "Pclass           int64\n",
       "Name            object\n",
       "Sex             object\n",
       "Age            float64\n",
       "SibSp            int64\n",
       "Parch            int64\n",
       "Ticket          object\n",
       "Fare           float64\n",
       "Cabin           object\n",
       "Embarked        object\n",
       "dtype: object"
      ]
     },
     "execution_count": 11,
     "metadata": {},
     "output_type": "execute_result"
    }
   ],
   "source": [
    "# Different data types in the dataset\n",
    "train.dtypes"
   ]
  },
  {
   "cell_type": "markdown",
   "id": "eee41bee",
   "metadata": {
    "papermill": {
     "duration": 0.085242,
     "end_time": "2021-09-12T21:11:45.643670",
     "exception": false,
     "start_time": "2021-09-12T21:11:45.558428",
     "status": "completed"
    },
    "tags": []
   },
   "source": [
    "#### Let's explore each of these features individually"
   ]
  },
  {
   "cell_type": "code",
   "execution_count": 12,
   "id": "d3c78ac0",
   "metadata": {
    "execution": {
     "iopub.execute_input": "2021-09-12T21:11:45.819090Z",
     "iopub.status.busy": "2021-09-12T21:11:45.818061Z",
     "iopub.status.idle": "2021-09-12T21:11:45.833983Z",
     "shell.execute_reply": "2021-09-12T21:11:45.833427Z",
     "shell.execute_reply.started": "2021-09-12T21:03:15.985446Z"
    },
    "papermill": {
     "duration": 0.104703,
     "end_time": "2021-09-12T21:11:45.834128",
     "exception": false,
     "start_time": "2021-09-12T21:11:45.729425",
     "status": "completed"
    },
    "tags": []
   },
   "outputs": [
    {
     "data": {
      "text/html": [
       "<div>\n",
       "<style scoped>\n",
       "    .dataframe tbody tr th:only-of-type {\n",
       "        vertical-align: middle;\n",
       "    }\n",
       "\n",
       "    .dataframe tbody tr th {\n",
       "        vertical-align: top;\n",
       "    }\n",
       "\n",
       "    .dataframe thead th {\n",
       "        text-align: right;\n",
       "    }\n",
       "</style>\n",
       "<table border=\"1\" class=\"dataframe\">\n",
       "  <thead>\n",
       "    <tr style=\"text-align: right;\">\n",
       "      <th></th>\n",
       "      <th>PassengerId</th>\n",
       "      <th>Survived</th>\n",
       "      <th>Pclass</th>\n",
       "      <th>Name</th>\n",
       "      <th>Sex</th>\n",
       "      <th>Age</th>\n",
       "      <th>SibSp</th>\n",
       "      <th>Parch</th>\n",
       "      <th>Ticket</th>\n",
       "      <th>Fare</th>\n",
       "      <th>Cabin</th>\n",
       "      <th>Embarked</th>\n",
       "    </tr>\n",
       "  </thead>\n",
       "  <tbody>\n",
       "    <tr>\n",
       "      <th>0</th>\n",
       "      <td>1</td>\n",
       "      <td>0</td>\n",
       "      <td>3</td>\n",
       "      <td>Braund, Mr. Owen Harris</td>\n",
       "      <td>male</td>\n",
       "      <td>22.0</td>\n",
       "      <td>1</td>\n",
       "      <td>0</td>\n",
       "      <td>A/5 21171</td>\n",
       "      <td>7.2500</td>\n",
       "      <td>NaN</td>\n",
       "      <td>S</td>\n",
       "    </tr>\n",
       "    <tr>\n",
       "      <th>1</th>\n",
       "      <td>2</td>\n",
       "      <td>1</td>\n",
       "      <td>1</td>\n",
       "      <td>Cumings, Mrs. John Bradley (Florence Briggs Th...</td>\n",
       "      <td>female</td>\n",
       "      <td>38.0</td>\n",
       "      <td>1</td>\n",
       "      <td>0</td>\n",
       "      <td>PC 17599</td>\n",
       "      <td>71.2833</td>\n",
       "      <td>C85</td>\n",
       "      <td>C</td>\n",
       "    </tr>\n",
       "    <tr>\n",
       "      <th>2</th>\n",
       "      <td>3</td>\n",
       "      <td>1</td>\n",
       "      <td>3</td>\n",
       "      <td>Heikkinen, Miss. Laina</td>\n",
       "      <td>female</td>\n",
       "      <td>26.0</td>\n",
       "      <td>0</td>\n",
       "      <td>0</td>\n",
       "      <td>STON/O2. 3101282</td>\n",
       "      <td>7.9250</td>\n",
       "      <td>NaN</td>\n",
       "      <td>S</td>\n",
       "    </tr>\n",
       "    <tr>\n",
       "      <th>3</th>\n",
       "      <td>4</td>\n",
       "      <td>1</td>\n",
       "      <td>1</td>\n",
       "      <td>Futrelle, Mrs. Jacques Heath (Lily May Peel)</td>\n",
       "      <td>female</td>\n",
       "      <td>35.0</td>\n",
       "      <td>1</td>\n",
       "      <td>0</td>\n",
       "      <td>113803</td>\n",
       "      <td>53.1000</td>\n",
       "      <td>C123</td>\n",
       "      <td>S</td>\n",
       "    </tr>\n",
       "    <tr>\n",
       "      <th>4</th>\n",
       "      <td>5</td>\n",
       "      <td>0</td>\n",
       "      <td>3</td>\n",
       "      <td>Allen, Mr. William Henry</td>\n",
       "      <td>male</td>\n",
       "      <td>35.0</td>\n",
       "      <td>0</td>\n",
       "      <td>0</td>\n",
       "      <td>373450</td>\n",
       "      <td>8.0500</td>\n",
       "      <td>NaN</td>\n",
       "      <td>S</td>\n",
       "    </tr>\n",
       "  </tbody>\n",
       "</table>\n",
       "</div>"
      ],
      "text/plain": [
       "   PassengerId  Survived  Pclass                                               Name     Sex   Age  SibSp  Parch            Ticket     Fare Cabin Embarked\n",
       "0            1         0       3                            Braund, Mr. Owen Harris    male  22.0      1      0         A/5 21171   7.2500   NaN        S\n",
       "1            2         1       1  Cumings, Mrs. John Bradley (Florence Briggs Th...  female  38.0      1      0          PC 17599  71.2833   C85        C\n",
       "2            3         1       3                             Heikkinen, Miss. Laina  female  26.0      0      0  STON/O2. 3101282   7.9250   NaN        S\n",
       "3            4         1       1       Futrelle, Mrs. Jacques Heath (Lily May Peel)  female  35.0      1      0            113803  53.1000  C123        S\n",
       "4            5         0       3                           Allen, Mr. William Henry    male  35.0      0      0            373450   8.0500   NaN        S"
      ]
     },
     "execution_count": 12,
     "metadata": {},
     "output_type": "execute_result"
    }
   ],
   "source": [
    "train.head()"
   ]
  },
  {
   "cell_type": "code",
   "execution_count": 13,
   "id": "b143554f",
   "metadata": {
    "execution": {
     "iopub.execute_input": "2021-09-12T21:11:46.015958Z",
     "iopub.status.busy": "2021-09-12T21:11:46.015279Z",
     "iopub.status.idle": "2021-09-12T21:11:46.141268Z",
     "shell.execute_reply": "2021-09-12T21:11:46.142252Z",
     "shell.execute_reply.started": "2021-09-12T21:03:16.004558Z"
    },
    "papermill": {
     "duration": 0.221683,
     "end_time": "2021-09-12T21:11:46.142525",
     "exception": false,
     "start_time": "2021-09-12T21:11:45.920842",
     "status": "completed"
    },
    "tags": []
   },
   "outputs": [
    {
     "name": "stdout",
     "output_type": "stream",
     "text": [
      "0    549\n",
      "1    342\n",
      "Name: Survived, dtype: int64\n"
     ]
    },
    {
     "data": {
      "image/png": "[encoded data removed]",
      "text/plain": [
       "<Figure size 1440x72 with 1 Axes>"
      ]
     },
     "metadata": {},
     "output_type": "display_data"
    }
   ],
   "source": [
    "# survived\n",
    "\n",
    "# How many people survived?\n",
    "fig = plt.figure(figsize=(20,1))\n",
    "sns.countplot(y='Survived', data=train);\n",
    "print(train.Survived.value_counts())"
   ]
  },
  {
   "cell_type": "code",
   "execution_count": 14,
   "id": "6d7a3b3c",
   "metadata": {
    "execution": {
     "iopub.execute_input": "2021-09-12T21:11:46.339913Z",
     "iopub.status.busy": "2021-09-12T21:11:46.331854Z",
     "iopub.status.idle": "2021-09-12T21:11:46.343727Z",
     "shell.execute_reply": "2021-09-12T21:11:46.343095Z",
     "shell.execute_reply.started": "2021-09-12T21:03:16.191555Z"
    },
    "papermill": {
     "duration": 0.102766,
     "end_time": "2021-09-12T21:11:46.343882",
     "exception": false,
     "start_time": "2021-09-12T21:11:46.241116",
     "status": "completed"
    },
    "tags": []
   },
   "outputs": [
    {
     "data": {
      "text/html": [
       "<div>\n",
       "<style scoped>\n",
       "    .dataframe tbody tr th:only-of-type {\n",
       "        vertical-align: middle;\n",
       "    }\n",
       "\n",
       "    .dataframe tbody tr th {\n",
       "        vertical-align: top;\n",
       "    }\n",
       "\n",
       "    .dataframe thead th {\n",
       "        text-align: right;\n",
       "    }\n",
       "</style>\n",
       "<table border=\"1\" class=\"dataframe\">\n",
       "  <thead>\n",
       "    <tr style=\"text-align: right;\">\n",
       "      <th></th>\n",
       "      <th>Survived</th>\n",
       "    </tr>\n",
       "  </thead>\n",
       "  <tbody>\n",
       "    <tr>\n",
       "      <th>0</th>\n",
       "      <td>0</td>\n",
       "    </tr>\n",
       "    <tr>\n",
       "      <th>1</th>\n",
       "      <td>1</td>\n",
       "    </tr>\n",
       "    <tr>\n",
       "      <th>2</th>\n",
       "      <td>1</td>\n",
       "    </tr>\n",
       "    <tr>\n",
       "      <th>3</th>\n",
       "      <td>1</td>\n",
       "    </tr>\n",
       "    <tr>\n",
       "      <th>4</th>\n",
       "      <td>0</td>\n",
       "    </tr>\n",
       "  </tbody>\n",
       "</table>\n",
       "</div>"
      ],
      "text/plain": [
       "   Survived\n",
       "0         0\n",
       "1         1\n",
       "2         1\n",
       "3         1\n",
       "4         0"
      ]
     },
     "execution_count": 14,
     "metadata": {},
     "output_type": "execute_result"
    }
   ],
   "source": [
    "# Let's add this to our subset dataframes\n",
    "df_bin['Survived'] = train['Survived']\n",
    "df_con['Survived'] = train['Survived']\n",
    "df_bin.head()"
   ]
  },
  {
   "cell_type": "code",
   "execution_count": 15,
   "id": "b5d0a8d6",
   "metadata": {
    "execution": {
     "iopub.execute_input": "2021-09-12T21:11:46.524966Z",
     "iopub.status.busy": "2021-09-12T21:11:46.523980Z",
     "iopub.status.idle": "2021-09-12T21:11:46.534301Z",
     "shell.execute_reply": "2021-09-12T21:11:46.534761Z",
     "shell.execute_reply.started": "2021-09-12T21:03:16.205072Z"
    },
    "papermill": {
     "duration": 0.101429,
     "end_time": "2021-09-12T21:11:46.534948",
     "exception": false,
     "start_time": "2021-09-12T21:11:46.433519",
     "status": "completed"
    },
    "tags": []
   },
   "outputs": [],
   "source": [
    "def plot_count_dist(data, bin_df, label_column, target_column, figsize=(20, 5), use_bin_df=False):\n",
    "    \"\"\"\n",
    "    Function to plot counts and distributions of a label variable and \n",
    "    target variable side by side.\n",
    "    ::param_data:: = target dataframe\n",
    "    ::param_bin_df:: = binned dataframe for countplot\n",
    "    ::param_label_column:: = binary labelled column\n",
    "    ::param_target_column:: = column you want to view counts and distributions\n",
    "    ::param_figsize:: = size of figure (width, height)\n",
    "    ::param_use_bin_df:: = whether or not to use the bin_df, default False\n",
    "    \"\"\"\n",
    "    if use_bin_df: \n",
    "        fig = plt.figure(figsize=figsize)\n",
    "        plt.subplot(1, 2, 1)\n",
    "        sns.countplot(y=target_column, data=bin_df);\n",
    "        plt.subplot(1, 2, 2)\n",
    "        sns.distplot(data.loc[data[label_column] == 1][target_column], \n",
    "                     kde_kws={\"label\": \"Survived\"});\n",
    "        sns.distplot(data.loc[data[label_column] == 0][target_column], \n",
    "                     kde_kws={\"label\": \"Did not survive\"});\n",
    "    else:\n",
    "        fig = plt.figure(figsize=figsize)\n",
    "        plt.subplot(1, 2, 1)\n",
    "        sns.countplot(y=target_column, data=data);\n",
    "        plt.subplot(1, 2, 2)\n",
    "        sns.distplot(data.loc[data[label_column] == 1][target_column], \n",
    "                     kde_kws={\"label\": \"Survived\"});\n",
    "        sns.distplot(data.loc[data[label_column] == 0][target_column], \n",
    "                     kde_kws={\"label\": \"Did not survive\"});"
   ]
  },
  {
   "cell_type": "markdown",
   "id": "250b94f0",
   "metadata": {
    "papermill": {
     "duration": 0.087289,
     "end_time": "2021-09-12T21:11:46.709585",
     "exception": false,
     "start_time": "2021-09-12T21:11:46.622296",
     "status": "completed"
    },
    "tags": []
   },
   "source": [
    "#### PClass"
   ]
  },
  {
   "cell_type": "code",
   "execution_count": 16,
   "id": "258aab3e",
   "metadata": {
    "execution": {
     "iopub.execute_input": "2021-09-12T21:11:46.938969Z",
     "iopub.status.busy": "2021-09-12T21:11:46.937975Z",
     "iopub.status.idle": "2021-09-12T21:11:47.388590Z",
     "shell.execute_reply": "2021-09-12T21:11:47.389099Z",
     "shell.execute_reply.started": "2021-09-12T21:03:16.218700Z"
    },
    "papermill": {
     "duration": 0.591868,
     "end_time": "2021-09-12T21:11:47.389269",
     "exception": false,
     "start_time": "2021-09-12T21:11:46.797401",
     "status": "completed"
    },
    "tags": []
   },
   "outputs": [
    {
     "name": "stderr",
     "output_type": "stream",
     "text": [
      "/opt/conda/lib/python3.7/site-packages/seaborn/distributions.py:2619: FutureWarning: `distplot` is a deprecated function and will be removed in a future version. Please adapt your code to use either `displot` (a figure-level function with similar flexibility) or `histplot` (an axes-level function for histograms).\n",
      "  warnings.warn(msg, FutureWarning)\n",
      "/opt/conda/lib/python3.7/site-packages/seaborn/distributions.py:2619: FutureWarning: `distplot` is a deprecated function and will be removed in a future version. Please adapt your code to use either `displot` (a figure-level function with similar flexibility) or `histplot` (an axes-level function for histograms).\n",
      "  warnings.warn(msg, FutureWarning)\n"
     ]
    },
    {
     "data": {
      "image/png": "[encoded data removed]",
      "text/plain": [
       "<Figure size 1440x720 with 2 Axes>"
      ]
     },
     "metadata": {},
     "output_type": "display_data"
    }
   ],
   "source": [
    "# Visualise the counts of SibSp and the distribution of the values\n",
    "# against Survived\n",
    "plot_count_dist(train, \n",
    "                bin_df=df_bin, \n",
    "                label_column='Survived', \n",
    "                target_column='Pclass', \n",
    "                figsize=(20, 10))"
   ]
  },
  {
   "cell_type": "code",
   "execution_count": 17,
   "id": "bae7991b",
   "metadata": {
    "execution": {
     "iopub.execute_input": "2021-09-12T21:11:47.571589Z",
     "iopub.status.busy": "2021-09-12T21:11:47.570607Z",
     "iopub.status.idle": "2021-09-12T21:11:47.582349Z",
     "shell.execute_reply": "2021-09-12T21:11:47.582860Z",
     "shell.execute_reply.started": "2021-09-12T21:03:16.664433Z"
    },
    "papermill": {
     "duration": 0.104508,
     "end_time": "2021-09-12T21:11:47.583029",
     "exception": false,
     "start_time": "2021-09-12T21:11:47.478521",
     "status": "completed"
    },
    "tags": []
   },
   "outputs": [
    {
     "data": {
      "text/html": [
       "<div>\n",
       "<style scoped>\n",
       "    .dataframe tbody tr th:only-of-type {\n",
       "        vertical-align: middle;\n",
       "    }\n",
       "\n",
       "    .dataframe tbody tr th {\n",
       "        vertical-align: top;\n",
       "    }\n",
       "\n",
       "    .dataframe thead th {\n",
       "        text-align: right;\n",
       "    }\n",
       "</style>\n",
       "<table border=\"1\" class=\"dataframe\">\n",
       "  <thead>\n",
       "    <tr style=\"text-align: right;\">\n",
       "      <th></th>\n",
       "      <th>Survived</th>\n",
       "      <th>Pclass</th>\n",
       "    </tr>\n",
       "  </thead>\n",
       "  <tbody>\n",
       "    <tr>\n",
       "      <th>0</th>\n",
       "      <td>0</td>\n",
       "      <td>3</td>\n",
       "    </tr>\n",
       "    <tr>\n",
       "      <th>1</th>\n",
       "      <td>1</td>\n",
       "      <td>1</td>\n",
       "    </tr>\n",
       "    <tr>\n",
       "      <th>2</th>\n",
       "      <td>1</td>\n",
       "      <td>3</td>\n",
       "    </tr>\n",
       "    <tr>\n",
       "      <th>3</th>\n",
       "      <td>1</td>\n",
       "      <td>1</td>\n",
       "    </tr>\n",
       "    <tr>\n",
       "      <th>4</th>\n",
       "      <td>0</td>\n",
       "      <td>3</td>\n",
       "    </tr>\n",
       "  </tbody>\n",
       "</table>\n",
       "</div>"
      ],
      "text/plain": [
       "   Survived  Pclass\n",
       "0         0       3\n",
       "1         1       1\n",
       "2         1       3\n",
       "3         1       1\n",
       "4         0       3"
      ]
     },
     "execution_count": 17,
     "metadata": {},
     "output_type": "execute_result"
    }
   ],
   "source": [
    "df_bin['Pclass'] = train['Pclass']\n",
    "df_con['Pclass'] = train['Pclass']\n",
    "df_bin_test['Pclass'] = test['Pclass']\n",
    "df_bin.head()"
   ]
  },
  {
   "cell_type": "markdown",
   "id": "86f40b38",
   "metadata": {
    "papermill": {
     "duration": 0.089832,
     "end_time": "2021-09-12T21:11:47.762457",
     "exception": false,
     "start_time": "2021-09-12T21:11:47.672625",
     "status": "completed"
    },
    "tags": []
   },
   "source": [
    "#### Name"
   ]
  },
  {
   "cell_type": "code",
   "execution_count": 18,
   "id": "193ce413",
   "metadata": {
    "execution": {
     "iopub.execute_input": "2021-09-12T21:11:47.946003Z",
     "iopub.status.busy": "2021-09-12T21:11:47.945060Z",
     "iopub.status.idle": "2021-09-12T21:11:47.948185Z",
     "shell.execute_reply": "2021-09-12T21:11:47.948677Z",
     "shell.execute_reply.started": "2021-09-12T21:03:16.678149Z"
    },
    "papermill": {
     "duration": 0.096688,
     "end_time": "2021-09-12T21:11:47.948873",
     "exception": false,
     "start_time": "2021-09-12T21:11:47.852185",
     "status": "completed"
    },
    "tags": []
   },
   "outputs": [],
   "source": [
    "# name\n",
    "# How many different names are there?\n",
    "\n",
    "# feature engineer"
   ]
  },
  {
   "cell_type": "markdown",
   "id": "c30650a5",
   "metadata": {
    "papermill": {
     "duration": 0.089743,
     "end_time": "2021-09-12T21:11:48.127999",
     "exception": false,
     "start_time": "2021-09-12T21:11:48.038256",
     "status": "completed"
    },
    "tags": []
   },
   "source": [
    "#### Sex"
   ]
  },
  {
   "cell_type": "code",
   "execution_count": 19,
   "id": "21206e2a",
   "metadata": {
    "execution": {
     "iopub.execute_input": "2021-09-12T21:11:48.317290Z",
     "iopub.status.busy": "2021-09-12T21:11:48.316237Z",
     "iopub.status.idle": "2021-09-12T21:11:48.505673Z",
     "shell.execute_reply": "2021-09-12T21:11:48.505062Z",
     "shell.execute_reply.started": "2021-09-12T21:03:16.683236Z"
    },
    "papermill": {
     "duration": 0.288351,
     "end_time": "2021-09-12T21:11:48.505872",
     "exception": false,
     "start_time": "2021-09-12T21:11:48.217521",
     "status": "completed"
    },
    "tags": []
   },
   "outputs": [
    {
     "name": "stdout",
     "output_type": "stream",
     "text": [
      "male      577\n",
      "female    314\n",
      "Name: Sex, dtype: int64\n"
     ]
    },
    {
     "data": {
      "image/png": "[encoded data removed]",
      "text/plain": [
       "<Figure size 1440x360 with 1 Axes>"
      ]
     },
     "metadata": {},
     "output_type": "display_data"
    }
   ],
   "source": [
    "# sex\n",
    "# Let's view the distribution of Sex\n",
    "plt.figure(figsize=(20, 5))\n",
    "sns.countplot(y=\"Sex\", data=train)\n",
    "print(train.Sex.value_counts())"
   ]
  },
  {
   "cell_type": "code",
   "execution_count": 20,
   "id": "c7cf8f50",
   "metadata": {
    "execution": {
     "iopub.execute_input": "2021-09-12T21:11:48.698751Z",
     "iopub.status.busy": "2021-09-12T21:11:48.697968Z",
     "iopub.status.idle": "2021-09-12T21:11:48.700298Z",
     "shell.execute_reply": "2021-09-12T21:11:48.700778Z",
     "shell.execute_reply.started": "2021-09-12T21:03:16.879967Z"
    },
    "papermill": {
     "duration": 0.104275,
     "end_time": "2021-09-12T21:11:48.700965",
     "exception": false,
     "start_time": "2021-09-12T21:11:48.596690",
     "status": "completed"
    },
    "tags": []
   },
   "outputs": [],
   "source": [
    "# add Sex to the subset dataframes\n",
    "df_bin['Sex'] = train['Sex']\n",
    "df_bin['Sex'] = np.where(df_bin['Sex'] == 'female', 1, 0) # change sex to 0 for male and 1 for female\n",
    "\n",
    "df_bin_test['Sex'] = test['Sex']\n",
    "df_bin_test['Sex'] = np.where(df_bin_test['Sex'] == 'female', 1, 0) # change sex to 0 for male and 1 for female\n",
    "\n",
    "df_con['Sex'] = train['Sex']"
   ]
  },
  {
   "cell_type": "code",
   "execution_count": 21,
   "id": "0b37897b",
   "metadata": {
    "execution": {
     "iopub.execute_input": "2021-09-12T21:11:48.885906Z",
     "iopub.status.busy": "2021-09-12T21:11:48.885224Z",
     "iopub.status.idle": "2021-09-12T21:11:49.237491Z",
     "shell.execute_reply": "2021-09-12T21:11:49.236836Z",
     "shell.execute_reply.started": "2021-09-12T21:03:16.891135Z"
    },
    "papermill": {
     "duration": 0.446476,
     "end_time": "2021-09-12T21:11:49.237631",
     "exception": false,
     "start_time": "2021-09-12T21:11:48.791155",
     "status": "completed"
    },
    "tags": []
   },
   "outputs": [
    {
     "name": "stderr",
     "output_type": "stream",
     "text": [
      "/opt/conda/lib/python3.7/site-packages/seaborn/distributions.py:2619: FutureWarning: `distplot` is a deprecated function and will be removed in a future version. Please adapt your code to use either `displot` (a figure-level function with similar flexibility) or `histplot` (an axes-level function for histograms).\n",
      "  warnings.warn(msg, FutureWarning)\n",
      "/opt/conda/lib/python3.7/site-packages/seaborn/distributions.py:2619: FutureWarning: `distplot` is a deprecated function and will be removed in a future version. Please adapt your code to use either `displot` (a figure-level function with similar flexibility) or `histplot` (an axes-level function for histograms).\n",
      "  warnings.warn(msg, FutureWarning)\n"
     ]
    },
    {
     "data": {
      "image/png": "[encoded data removed]",
      "text/plain": [
       "<Figure size 720x720 with 1 Axes>"
      ]
     },
     "metadata": {},
     "output_type": "display_data"
    }
   ],
   "source": [
    "# How does the Sex variable look compared to Survival?\n",
    "# We can see this because they're both binarys.\n",
    "fig = plt.figure(figsize=(10, 10))\n",
    "sns.distplot(df_bin.loc[df_bin['Survived'] == 1]['Sex'], kde_kws={'label': 'Survived'});\n",
    "sns.distplot(df_bin.loc[df_bin['Survived'] == 0]['Sex'], kde_kws={'label': 'Did not survive'});"
   ]
  },
  {
   "cell_type": "code",
   "execution_count": 22,
   "id": "8b43db6d",
   "metadata": {
    "execution": {
     "iopub.execute_input": "2021-09-12T21:11:49.425930Z",
     "iopub.status.busy": "2021-09-12T21:11:49.424993Z",
     "iopub.status.idle": "2021-09-12T21:11:49.431147Z",
     "shell.execute_reply": "2021-09-12T21:11:49.431626Z",
     "shell.execute_reply.started": "2021-09-12T21:03:17.251168Z"
    },
    "papermill": {
     "duration": 0.102194,
     "end_time": "2021-09-12T21:11:49.431783",
     "exception": false,
     "start_time": "2021-09-12T21:11:49.329589",
     "status": "completed"
    },
    "tags": []
   },
   "outputs": [
    {
     "data": {
      "text/plain": [
       "0"
      ]
     },
     "execution_count": 22,
     "metadata": {},
     "output_type": "execute_result"
    }
   ],
   "source": [
    "# Are there any missing values in the Sex column?\n",
    "train.Sex.isnull().sum()"
   ]
  },
  {
   "cell_type": "code",
   "execution_count": 23,
   "id": "da754ca4",
   "metadata": {
    "execution": {
     "iopub.execute_input": "2021-09-12T21:11:49.621677Z",
     "iopub.status.busy": "2021-09-12T21:11:49.621041Z",
     "iopub.status.idle": "2021-09-12T21:11:49.628125Z",
     "shell.execute_reply": "2021-09-12T21:11:49.627585Z",
     "shell.execute_reply.started": "2021-09-12T21:03:17.257736Z"
    },
    "papermill": {
     "duration": 0.10252,
     "end_time": "2021-09-12T21:11:49.628268",
     "exception": false,
     "start_time": "2021-09-12T21:11:49.525748",
     "status": "completed"
    },
    "tags": []
   },
   "outputs": [
    {
     "data": {
      "text/plain": [
       "0      male\n",
       "1    female\n",
       "2    female\n",
       "3    female\n",
       "4      male\n",
       "Name: Sex, dtype: object"
      ]
     },
     "execution_count": 23,
     "metadata": {},
     "output_type": "execute_result"
    }
   ],
   "source": [
    "train.Sex.head()"
   ]
  },
  {
   "cell_type": "markdown",
   "id": "1b7945a5",
   "metadata": {
    "papermill": {
     "duration": 0.092649,
     "end_time": "2021-09-12T21:11:49.814485",
     "exception": false,
     "start_time": "2021-09-12T21:11:49.721836",
     "status": "completed"
    },
    "tags": []
   },
   "source": [
    "#### Age"
   ]
  },
  {
   "cell_type": "code",
   "execution_count": 24,
   "id": "24220dee",
   "metadata": {
    "execution": {
     "iopub.execute_input": "2021-09-12T21:11:50.005350Z",
     "iopub.status.busy": "2021-09-12T21:11:50.004612Z",
     "iopub.status.idle": "2021-09-12T21:11:50.009348Z",
     "shell.execute_reply": "2021-09-12T21:11:50.009969Z",
     "shell.execute_reply.started": "2021-09-12T21:03:17.274016Z"
    },
    "papermill": {
     "duration": 0.101986,
     "end_time": "2021-09-12T21:11:50.010138",
     "exception": false,
     "start_time": "2021-09-12T21:11:49.908152",
     "status": "completed"
    },
    "tags": []
   },
   "outputs": [
    {
     "data": {
      "text/plain": [
       "177"
      ]
     },
     "execution_count": 24,
     "metadata": {},
     "output_type": "execute_result"
    }
   ],
   "source": [
    "train.Age.isnull().sum()"
   ]
  },
  {
   "cell_type": "code",
   "execution_count": 25,
   "id": "826eff18",
   "metadata": {
    "execution": {
     "iopub.execute_input": "2021-09-12T21:11:50.205855Z",
     "iopub.status.busy": "2021-09-12T21:11:50.201707Z",
     "iopub.status.idle": "2021-09-12T21:11:50.214685Z",
     "shell.execute_reply": "2021-09-12T21:11:50.215255Z",
     "shell.execute_reply.started": "2021-09-12T21:03:17.284014Z"
    },
    "papermill": {
     "duration": 0.111568,
     "end_time": "2021-09-12T21:11:50.215421",
     "exception": false,
     "start_time": "2021-09-12T21:11:50.103853",
     "status": "completed"
    },
    "tags": []
   },
   "outputs": [
    {
     "data": {
      "text/plain": [
       "24.00    30\n",
       "22.00    27\n",
       "18.00    26\n",
       "19.00    25\n",
       "28.00    25\n",
       "30.00    25\n",
       "21.00    24\n",
       "25.00    23\n",
       "36.00    22\n",
       "29.00    20\n",
       "32.00    18\n",
       "35.00    18\n",
       "27.00    18\n",
       "26.00    18\n",
       "16.00    17\n",
       "31.00    17\n",
       "20.00    15\n",
       "34.00    15\n",
       "33.00    15\n",
       "23.00    15\n",
       "39.00    14\n",
       "40.00    13\n",
       "17.00    13\n",
       "42.00    13\n",
       "45.00    12\n",
       "38.00    11\n",
       "50.00    10\n",
       "2.00     10\n",
       "4.00     10\n",
       "44.00     9\n",
       "48.00     9\n",
       "47.00     9\n",
       "54.00     8\n",
       "9.00      8\n",
       "1.00      7\n",
       "51.00     7\n",
       "14.00     6\n",
       "52.00     6\n",
       "37.00     6\n",
       "49.00     6\n",
       "41.00     6\n",
       "3.00      6\n",
       "58.00     5\n",
       "15.00     5\n",
       "43.00     5\n",
       "62.00     4\n",
       "56.00     4\n",
       "5.00      4\n",
       "11.00     4\n",
       "60.00     4\n",
       "8.00      4\n",
       "6.00      3\n",
       "46.00     3\n",
       "61.00     3\n",
       "65.00     3\n",
       "7.00      3\n",
       "10.00     2\n",
       "64.00     2\n",
       "13.00     2\n",
       "63.00     2\n",
       "30.50     2\n",
       "57.00     2\n",
       "70.00     2\n",
       "0.75      2\n",
       "71.00     2\n",
       "59.00     2\n",
       "0.83      2\n",
       "40.50     2\n",
       "55.00     2\n",
       "32.50     2\n",
       "28.50     2\n",
       "45.50     2\n",
       "34.50     1\n",
       "0.42      1\n",
       "0.67      1\n",
       "66.00     1\n",
       "24.50     1\n",
       "80.00     1\n",
       "20.50     1\n",
       "53.00     1\n",
       "14.50     1\n",
       "70.50     1\n",
       "12.00     1\n",
       "36.50     1\n",
       "55.50     1\n",
       "0.92      1\n",
       "23.50     1\n",
       "74.00     1\n",
       "Name: Age, dtype: int64"
      ]
     },
     "execution_count": 25,
     "metadata": {},
     "output_type": "execute_result"
    }
   ],
   "source": [
    "train.Age.value_counts()"
   ]
  },
  {
   "cell_type": "markdown",
   "id": "7eecf2ff",
   "metadata": {
    "papermill": {
     "duration": 0.09407,
     "end_time": "2021-09-12T21:11:50.402954",
     "exception": false,
     "start_time": "2021-09-12T21:11:50.308884",
     "status": "completed"
    },
    "tags": []
   },
   "source": [
    "#### Sibsp"
   ]
  },
  {
   "cell_type": "code",
   "execution_count": 26,
   "id": "e0e3735b",
   "metadata": {
    "execution": {
     "iopub.execute_input": "2021-09-12T21:11:50.597901Z",
     "iopub.status.busy": "2021-09-12T21:11:50.597247Z",
     "iopub.status.idle": "2021-09-12T21:11:50.600484Z",
     "shell.execute_reply": "2021-09-12T21:11:50.601058Z",
     "shell.execute_reply.started": "2021-09-12T21:03:17.304134Z"
    },
    "papermill": {
     "duration": 0.104371,
     "end_time": "2021-09-12T21:11:50.601237",
     "exception": false,
     "start_time": "2021-09-12T21:11:50.496866",
     "status": "completed"
    },
    "tags": []
   },
   "outputs": [
    {
     "data": {
      "text/plain": [
       "0    608\n",
       "1    209\n",
       "2     28\n",
       "4     18\n",
       "3     16\n",
       "8      7\n",
       "5      5\n",
       "Name: SibSp, dtype: int64"
      ]
     },
     "execution_count": 26,
     "metadata": {},
     "output_type": "execute_result"
    }
   ],
   "source": [
    "# What values are there?\n",
    "train.SibSp.value_counts()"
   ]
  },
  {
   "cell_type": "code",
   "execution_count": 27,
   "id": "08c543c9",
   "metadata": {
    "execution": {
     "iopub.execute_input": "2021-09-12T21:11:50.794907Z",
     "iopub.status.busy": "2021-09-12T21:11:50.794232Z",
     "iopub.status.idle": "2021-09-12T21:11:50.801812Z",
     "shell.execute_reply": "2021-09-12T21:11:50.801270Z",
     "shell.execute_reply.started": "2021-09-12T21:03:17.312603Z"
    },
    "papermill": {
     "duration": 0.106296,
     "end_time": "2021-09-12T21:11:50.801966",
     "exception": false,
     "start_time": "2021-09-12T21:11:50.695670",
     "status": "completed"
    },
    "tags": []
   },
   "outputs": [],
   "source": [
    "# Add SibSp to subset dataframes\n",
    "df_bin['SibSp'] = train['SibSp']\n",
    "df_con['SibSp'] = train['SibSp']\n",
    "\n",
    "df_bin_test['SibSp'] = test['SibSp']"
   ]
  },
  {
   "cell_type": "code",
   "execution_count": 28,
   "id": "2d56c59b",
   "metadata": {
    "execution": {
     "iopub.execute_input": "2021-09-12T21:11:51.000591Z",
     "iopub.status.busy": "2021-09-12T21:11:50.999511Z",
     "iopub.status.idle": "2021-09-12T21:11:51.523440Z",
     "shell.execute_reply": "2021-09-12T21:11:51.522758Z",
     "shell.execute_reply.started": "2021-09-12T21:03:17.328900Z"
    },
    "papermill": {
     "duration": 0.623335,
     "end_time": "2021-09-12T21:11:51.523583",
     "exception": false,
     "start_time": "2021-09-12T21:11:50.900248",
     "status": "completed"
    },
    "tags": []
   },
   "outputs": [
    {
     "name": "stderr",
     "output_type": "stream",
     "text": [
      "/opt/conda/lib/python3.7/site-packages/seaborn/distributions.py:2619: FutureWarning: `distplot` is a deprecated function and will be removed in a future version. Please adapt your code to use either `displot` (a figure-level function with similar flexibility) or `histplot` (an axes-level function for histograms).\n",
      "  warnings.warn(msg, FutureWarning)\n",
      "/opt/conda/lib/python3.7/site-packages/seaborn/distributions.py:2619: FutureWarning: `distplot` is a deprecated function and will be removed in a future version. Please adapt your code to use either `displot` (a figure-level function with similar flexibility) or `histplot` (an axes-level function for histograms).\n",
      "  warnings.warn(msg, FutureWarning)\n"
     ]
    },
    {
     "data": {
      "image/png": "[encoded data removed]",
      "text/plain": [
       "<Figure size 1440x720 with 2 Axes>"
      ]
     },
     "metadata": {},
     "output_type": "display_data"
    }
   ],
   "source": [
    "# Visualise the counts of SibSp and the distribution of the values\n",
    "# against Survived\n",
    "plot_count_dist(train, \n",
    "                bin_df=df_bin, \n",
    "                label_column='Survived', \n",
    "                target_column='SibSp', \n",
    "                figsize=(20, 10))"
   ]
  },
  {
   "cell_type": "markdown",
   "id": "ab4cae62",
   "metadata": {
    "papermill": {
     "duration": 0.095604,
     "end_time": "2021-09-12T21:11:51.715178",
     "exception": false,
     "start_time": "2021-09-12T21:11:51.619574",
     "status": "completed"
    },
    "tags": []
   },
   "source": [
    "#### Parch"
   ]
  },
  {
   "cell_type": "code",
   "execution_count": 29,
   "id": "16d5736a",
   "metadata": {
    "execution": {
     "iopub.execute_input": "2021-09-12T21:11:51.915332Z",
     "iopub.status.busy": "2021-09-12T21:11:51.914381Z",
     "iopub.status.idle": "2021-09-12T21:11:51.918252Z",
     "shell.execute_reply": "2021-09-12T21:11:51.917726Z",
     "shell.execute_reply.started": "2021-09-12T21:03:17.849065Z"
    },
    "papermill": {
     "duration": 0.107663,
     "end_time": "2021-09-12T21:11:51.918399",
     "exception": false,
     "start_time": "2021-09-12T21:11:51.810736",
     "status": "completed"
    },
    "tags": []
   },
   "outputs": [
    {
     "data": {
      "text/plain": [
       "0    678\n",
       "1    118\n",
       "2     80\n",
       "5      5\n",
       "3      5\n",
       "4      4\n",
       "6      1\n",
       "Name: Parch, dtype: int64"
      ]
     },
     "execution_count": 29,
     "metadata": {},
     "output_type": "execute_result"
    }
   ],
   "source": [
    "# What values are there?\n",
    "train.Parch.value_counts()"
   ]
  },
  {
   "cell_type": "code",
   "execution_count": 30,
   "id": "b2a35d8f",
   "metadata": {
    "execution": {
     "iopub.execute_input": "2021-09-12T21:11:52.116374Z",
     "iopub.status.busy": "2021-09-12T21:11:52.115416Z",
     "iopub.status.idle": "2021-09-12T21:11:52.121735Z",
     "shell.execute_reply": "2021-09-12T21:11:52.122223Z",
     "shell.execute_reply.started": "2021-09-12T21:03:17.859202Z"
    },
    "papermill": {
     "duration": 0.108022,
     "end_time": "2021-09-12T21:11:52.122404",
     "exception": false,
     "start_time": "2021-09-12T21:11:52.014382",
     "status": "completed"
    },
    "tags": []
   },
   "outputs": [],
   "source": [
    "# Add Parch to subset dataframes\n",
    "df_bin['Parch'] = train['Parch']\n",
    "df_con['Parch'] = train['Parch']\n",
    "\n",
    "df_bin_test['Parch'] = test['Parch']"
   ]
  },
  {
   "cell_type": "code",
   "execution_count": 31,
   "id": "fbf49fff",
   "metadata": {
    "execution": {
     "iopub.execute_input": "2021-09-12T21:11:52.351822Z",
     "iopub.status.busy": "2021-09-12T21:11:52.317929Z",
     "iopub.status.idle": "2021-09-12T21:11:52.878422Z",
     "shell.execute_reply": "2021-09-12T21:11:52.877846Z",
     "shell.execute_reply.started": "2021-09-12T21:03:17.870082Z"
    },
    "papermill": {
     "duration": 0.65983,
     "end_time": "2021-09-12T21:11:52.878567",
     "exception": false,
     "start_time": "2021-09-12T21:11:52.218737",
     "status": "completed"
    },
    "tags": []
   },
   "outputs": [
    {
     "name": "stderr",
     "output_type": "stream",
     "text": [
      "/opt/conda/lib/python3.7/site-packages/seaborn/distributions.py:2619: FutureWarning: `distplot` is a deprecated function and will be removed in a future version. Please adapt your code to use either `displot` (a figure-level function with similar flexibility) or `histplot` (an axes-level function for histograms).\n",
      "  warnings.warn(msg, FutureWarning)\n",
      "/opt/conda/lib/python3.7/site-packages/seaborn/distributions.py:2619: FutureWarning: `distplot` is a deprecated function and will be removed in a future version. Please adapt your code to use either `displot` (a figure-level function with similar flexibility) or `histplot` (an axes-level function for histograms).\n",
      "  warnings.warn(msg, FutureWarning)\n"
     ]
    },
    {
     "data": {
      "image/png": "[encoded data removed]",
      "text/plain": [
       "<Figure size 1440x720 with 2 Axes>"
      ]
     },
     "metadata": {},
     "output_type": "display_data"
    }
   ],
   "source": [
    "# Visualise the counts of Parch and the distribution of the values\n",
    "# against Survived\n",
    "plot_count_dist(train, \n",
    "                bin_df=df_bin,\n",
    "                label_column='Survived', \n",
    "                target_column='Parch', \n",
    "                figsize=(20, 10))"
   ]
  },
  {
   "cell_type": "markdown",
   "id": "9c92524b",
   "metadata": {
    "papermill": {
     "duration": 0.09839,
     "end_time": "2021-09-12T21:11:53.075639",
     "exception": false,
     "start_time": "2021-09-12T21:11:52.977249",
     "status": "completed"
    },
    "tags": []
   },
   "source": [
    "#### Ticket"
   ]
  },
  {
   "cell_type": "code",
   "execution_count": 32,
   "id": "c6dd83b4",
   "metadata": {
    "execution": {
     "iopub.execute_input": "2021-09-12T21:11:53.308088Z",
     "iopub.status.busy": "2021-09-12T21:11:53.281190Z",
     "iopub.status.idle": "2021-09-12T21:12:03.938465Z",
     "shell.execute_reply": "2021-09-12T21:12:03.937718Z",
     "shell.execute_reply.started": "2021-09-12T21:03:18.409058Z"
    },
    "papermill": {
     "duration": 10.765219,
     "end_time": "2021-09-12T21:12:03.938644",
     "exception": false,
     "start_time": "2021-09-12T21:11:53.173425",
     "status": "completed"
    },
    "tags": []
   },
   "outputs": [
    {
     "data": {
      "text/plain": [
       "<AxesSubplot:xlabel='count', ylabel='Ticket'>"
      ]
     },
     "execution_count": 32,
     "metadata": {},
     "output_type": "execute_result"
    },
    {
     "data": {
      "image/png": "[encoded data removed]",
      "text/plain": [
       "<Figure size 432x288 with 1 Axes>"
      ]
     },
     "metadata": {},
     "output_type": "display_data"
    }
   ],
   "source": [
    "# How many kinds of ticket are there?\n",
    "sns.countplot(y=\"Ticket\", data=train)"
   ]
  },
  {
   "cell_type": "code",
   "execution_count": 33,
   "id": "0faf6250",
   "metadata": {
    "execution": {
     "iopub.execute_input": "2021-09-12T21:12:04.152186Z",
     "iopub.status.busy": "2021-09-12T21:12:04.151227Z",
     "iopub.status.idle": "2021-09-12T21:12:04.155300Z",
     "shell.execute_reply": "2021-09-12T21:12:04.154653Z",
     "shell.execute_reply.started": "2021-09-12T21:03:29.090498Z"
    },
    "papermill": {
     "duration": 0.114182,
     "end_time": "2021-09-12T21:12:04.155439",
     "exception": false,
     "start_time": "2021-09-12T21:12:04.041257",
     "status": "completed"
    },
    "tags": []
   },
   "outputs": [
    {
     "data": {
      "text/plain": [
       "347082      7\n",
       "CA. 2343    7\n",
       "1601        7\n",
       "3101295     6\n",
       "CA 2144     6\n",
       "           ..\n",
       "9234        1\n",
       "19988       1\n",
       "2693        1\n",
       "PC 17612    1\n",
       "370376      1\n",
       "Name: Ticket, Length: 681, dtype: int64"
      ]
     },
     "execution_count": 33,
     "metadata": {},
     "output_type": "execute_result"
    }
   ],
   "source": [
    "# How many kinds of ticket are there?\n",
    "train.Ticket.value_counts()"
   ]
  },
  {
   "cell_type": "code",
   "execution_count": 34,
   "id": "e395b85a",
   "metadata": {
    "execution": {
     "iopub.execute_input": "2021-09-12T21:12:04.364292Z",
     "iopub.status.busy": "2021-09-12T21:12:04.363582Z",
     "iopub.status.idle": "2021-09-12T21:12:04.366517Z",
     "shell.execute_reply": "2021-09-12T21:12:04.367003Z",
     "shell.execute_reply.started": "2021-09-12T21:03:29.099852Z"
    },
    "papermill": {
     "duration": 0.109522,
     "end_time": "2021-09-12T21:12:04.367178",
     "exception": false,
     "start_time": "2021-09-12T21:12:04.257656",
     "status": "completed"
    },
    "tags": []
   },
   "outputs": [
    {
     "name": "stdout",
     "output_type": "stream",
     "text": [
      "There are 681 unique Ticket values.\n"
     ]
    }
   ],
   "source": [
    "# How many unique kinds of Ticket are there?\n",
    "print(\"There are {} unique Ticket values.\".format(len(train.Ticket.unique())))"
   ]
  },
  {
   "cell_type": "markdown",
   "id": "d8376c74",
   "metadata": {
    "papermill": {
     "duration": 0.100405,
     "end_time": "2021-09-12T21:12:04.568837",
     "exception": false,
     "start_time": "2021-09-12T21:12:04.468432",
     "status": "completed"
    },
    "tags": []
   },
   "source": [
    "#### Fare"
   ]
  },
  {
   "cell_type": "code",
   "execution_count": 35,
   "id": "ad192c1c",
   "metadata": {
    "execution": {
     "iopub.execute_input": "2021-09-12T21:12:04.776664Z",
     "iopub.status.busy": "2021-09-12T21:12:04.775767Z",
     "iopub.status.idle": "2021-09-12T21:12:08.475779Z",
     "shell.execute_reply": "2021-09-12T21:12:08.475282Z",
     "shell.execute_reply.started": "2021-09-12T21:03:29.113576Z"
    },
    "papermill": {
     "duration": 3.806514,
     "end_time": "2021-09-12T21:12:08.475936",
     "exception": false,
     "start_time": "2021-09-12T21:12:04.669422",
     "status": "completed"
    },
    "tags": []
   },
   "outputs": [
    {
     "data": {
      "text/plain": [
       "<AxesSubplot:xlabel='count', ylabel='Fare'>"
      ]
     },
     "execution_count": 35,
     "metadata": {},
     "output_type": "execute_result"
    },
    {
     "data": {
      "image/png": "[encoded data removed]",
      "text/plain": [
       "<Figure size 432x288 with 1 Axes>"
      ]
     },
     "metadata": {},
     "output_type": "display_data"
    }
   ],
   "source": [
    "# How many different values of Fare are there?\n",
    "sns.countplot(y=\"Fare\", data=train)"
   ]
  },
  {
   "cell_type": "code",
   "execution_count": 36,
   "id": "cdb39f20",
   "metadata": {
    "execution": {
     "iopub.execute_input": "2021-09-12T21:12:08.687432Z",
     "iopub.status.busy": "2021-09-12T21:12:08.686392Z",
     "iopub.status.idle": "2021-09-12T21:12:08.690653Z",
     "shell.execute_reply": "2021-09-12T21:12:08.690031Z",
     "shell.execute_reply.started": "2021-09-12T21:03:32.828557Z"
    },
    "papermill": {
     "duration": 0.112004,
     "end_time": "2021-09-12T21:12:08.690787",
     "exception": false,
     "start_time": "2021-09-12T21:12:08.578783",
     "status": "completed"
    },
    "tags": []
   },
   "outputs": [
    {
     "data": {
      "text/plain": [
       "dtype('float64')"
      ]
     },
     "execution_count": 36,
     "metadata": {},
     "output_type": "execute_result"
    }
   ],
   "source": [
    "# What kind of variable is Fare?\n",
    "train.Fare.dtype"
   ]
  },
  {
   "cell_type": "code",
   "execution_count": 37,
   "id": "68fc7773",
   "metadata": {
    "execution": {
     "iopub.execute_input": "2021-09-12T21:12:08.903526Z",
     "iopub.status.busy": "2021-09-12T21:12:08.902849Z",
     "iopub.status.idle": "2021-09-12T21:12:08.905433Z",
     "shell.execute_reply": "2021-09-12T21:12:08.905923Z",
     "shell.execute_reply.started": "2021-09-12T21:03:32.835298Z"
    },
    "papermill": {
     "duration": 0.111029,
     "end_time": "2021-09-12T21:12:08.906084",
     "exception": false,
     "start_time": "2021-09-12T21:12:08.795055",
     "status": "completed"
    },
    "tags": []
   },
   "outputs": [
    {
     "name": "stdout",
     "output_type": "stream",
     "text": [
      "There are 248 unique Fare values.\n"
     ]
    }
   ],
   "source": [
    "# How many unique kinds of Fare are there?\n",
    "print(\"There are {} unique Fare values.\".format(len(train.Fare.unique())))"
   ]
  },
  {
   "cell_type": "code",
   "execution_count": 38,
   "id": "28ab32eb",
   "metadata": {
    "execution": {
     "iopub.execute_input": "2021-09-12T21:12:09.127161Z",
     "iopub.status.busy": "2021-09-12T21:12:09.123409Z",
     "iopub.status.idle": "2021-09-12T21:12:09.143443Z",
     "shell.execute_reply": "2021-09-12T21:12:09.143966Z",
     "shell.execute_reply.started": "2021-09-12T21:03:32.850252Z"
    },
    "papermill": {
     "duration": 0.134003,
     "end_time": "2021-09-12T21:12:09.144159",
     "exception": false,
     "start_time": "2021-09-12T21:12:09.010156",
     "status": "completed"
    },
    "tags": []
   },
   "outputs": [
    {
     "data": {
      "text/plain": [
       "(-0.512, 102.466]     838\n",
       "(102.466, 204.932]     33\n",
       "(204.932, 307.398]     17\n",
       "(409.863, 512.329]      3\n",
       "(307.398, 409.863]      0\n",
       "Name: Fare, dtype: int64"
      ]
     },
     "execution_count": 38,
     "metadata": {},
     "output_type": "execute_result"
    }
   ],
   "source": [
    "# Add Fare to sub dataframes\n",
    "df_con['Fare'] = train['Fare'] \n",
    "df_bin['Fare'] = pd.cut(train['Fare'], bins=5) # discretised\n",
    "\n",
    "df_bin_test['Fare'] = test['Fare']\n",
    "df_bin_test['Fare'] = pd.cut(test['Fare'], bins=5) # discretised\n",
    "# What do our Fare bins look like?\n",
    "df_bin.Fare.value_counts()"
   ]
  },
  {
   "cell_type": "code",
   "execution_count": 39,
   "id": "5ed234d5",
   "metadata": {
    "execution": {
     "iopub.execute_input": "2021-09-12T21:12:09.356652Z",
     "iopub.status.busy": "2021-09-12T21:12:09.356002Z",
     "iopub.status.idle": "2021-09-12T21:12:09.986579Z",
     "shell.execute_reply": "2021-09-12T21:12:09.986036Z",
     "shell.execute_reply.started": "2021-09-12T21:03:32.885398Z"
    },
    "papermill": {
     "duration": 0.737582,
     "end_time": "2021-09-12T21:12:09.986752",
     "exception": false,
     "start_time": "2021-09-12T21:12:09.249170",
     "status": "completed"
    },
    "tags": []
   },
   "outputs": [
    {
     "name": "stderr",
     "output_type": "stream",
     "text": [
      "/opt/conda/lib/python3.7/site-packages/seaborn/distributions.py:2619: FutureWarning: `distplot` is a deprecated function and will be removed in a future version. Please adapt your code to use either `displot` (a figure-level function with similar flexibility) or `histplot` (an axes-level function for histograms).\n",
      "  warnings.warn(msg, FutureWarning)\n",
      "/opt/conda/lib/python3.7/site-packages/seaborn/distributions.py:2619: FutureWarning: `distplot` is a deprecated function and will be removed in a future version. Please adapt your code to use either `displot` (a figure-level function with similar flexibility) or `histplot` (an axes-level function for histograms).\n",
      "  warnings.warn(msg, FutureWarning)\n"
     ]
    },
    {
     "data": {
      "image/png": "[encoded data removed]",
      "text/plain": [
       "<Figure size 1440x720 with 2 Axes>"
      ]
     },
     "metadata": {},
     "output_type": "display_data"
    }
   ],
   "source": [
    "# Visualise the Fare bin counts as well as the Fare distribution versus Survived.\n",
    "plot_count_dist(data=train,\n",
    "                bin_df=df_bin,\n",
    "                label_column='Survived', \n",
    "                target_column='Fare', \n",
    "                figsize=(20,10), \n",
    "                use_bin_df=True)"
   ]
  },
  {
   "cell_type": "markdown",
   "id": "8f008020",
   "metadata": {
    "papermill": {
     "duration": 0.104493,
     "end_time": "2021-09-12T21:12:10.197748",
     "exception": false,
     "start_time": "2021-09-12T21:12:10.093255",
     "status": "completed"
    },
    "tags": []
   },
   "source": [
    "#### Cabin"
   ]
  },
  {
   "cell_type": "code",
   "execution_count": 40,
   "id": "878d1190",
   "metadata": {
    "execution": {
     "iopub.execute_input": "2021-09-12T21:12:10.412339Z",
     "iopub.status.busy": "2021-09-12T21:12:10.411381Z",
     "iopub.status.idle": "2021-09-12T21:12:10.417562Z",
     "shell.execute_reply": "2021-09-12T21:12:10.418061Z",
     "shell.execute_reply.started": "2021-09-12T21:03:33.516000Z"
    },
    "papermill": {
     "duration": 0.115661,
     "end_time": "2021-09-12T21:12:10.418240",
     "exception": false,
     "start_time": "2021-09-12T21:12:10.302579",
     "status": "completed"
    },
    "tags": []
   },
   "outputs": [
    {
     "data": {
      "text/plain": [
       "687"
      ]
     },
     "execution_count": 40,
     "metadata": {},
     "output_type": "execute_result"
    }
   ],
   "source": [
    "# How many missing values does Cabin have?\n",
    "train.Cabin.isnull().sum()"
   ]
  },
  {
   "cell_type": "code",
   "execution_count": 41,
   "id": "47ec6b68",
   "metadata": {
    "execution": {
     "iopub.execute_input": "2021-09-12T21:12:10.632000Z",
     "iopub.status.busy": "2021-09-12T21:12:10.631308Z",
     "iopub.status.idle": "2021-09-12T21:12:10.639309Z",
     "shell.execute_reply": "2021-09-12T21:12:10.638659Z",
     "shell.execute_reply.started": "2021-09-12T21:03:33.524818Z"
    },
    "papermill": {
     "duration": 0.115862,
     "end_time": "2021-09-12T21:12:10.639447",
     "exception": false,
     "start_time": "2021-09-12T21:12:10.523585",
     "status": "completed"
    },
    "tags": []
   },
   "outputs": [
    {
     "data": {
      "text/plain": [
       "B96 B98        4\n",
       "G6             4\n",
       "C23 C25 C27    4\n",
       "C22 C26        3\n",
       "F33            3\n",
       "              ..\n",
       "E34            1\n",
       "C7             1\n",
       "C54            1\n",
       "E36            1\n",
       "C148           1\n",
       "Name: Cabin, Length: 147, dtype: int64"
      ]
     },
     "execution_count": 41,
     "metadata": {},
     "output_type": "execute_result"
    }
   ],
   "source": [
    "# What do the Cabin values look like?\n",
    "train.Cabin.value_counts()"
   ]
  },
  {
   "cell_type": "markdown",
   "id": "de315a32",
   "metadata": {
    "papermill": {
     "duration": 0.105084,
     "end_time": "2021-09-12T21:12:10.850113",
     "exception": false,
     "start_time": "2021-09-12T21:12:10.745029",
     "status": "completed"
    },
    "tags": []
   },
   "source": [
    "#### Embarked"
   ]
  },
  {
   "cell_type": "code",
   "execution_count": 42,
   "id": "ddea4936",
   "metadata": {
    "execution": {
     "iopub.execute_input": "2021-09-12T21:12:11.064815Z",
     "iopub.status.busy": "2021-09-12T21:12:11.064166Z",
     "iopub.status.idle": "2021-09-12T21:12:11.069492Z",
     "shell.execute_reply": "2021-09-12T21:12:11.070083Z",
     "shell.execute_reply.started": "2021-09-12T21:03:33.540804Z"
    },
    "papermill": {
     "duration": 0.114675,
     "end_time": "2021-09-12T21:12:11.070362",
     "exception": false,
     "start_time": "2021-09-12T21:12:10.955687",
     "status": "completed"
    },
    "tags": []
   },
   "outputs": [
    {
     "data": {
      "text/plain": [
       "2"
      ]
     },
     "execution_count": 42,
     "metadata": {},
     "output_type": "execute_result"
    }
   ],
   "source": [
    "# How many missing values does Embarked have?\n",
    "train.Embarked.isnull().sum()"
   ]
  },
  {
   "cell_type": "code",
   "execution_count": 43,
   "id": "fd27eb57",
   "metadata": {
    "execution": {
     "iopub.execute_input": "2021-09-12T21:12:11.291601Z",
     "iopub.status.busy": "2021-09-12T21:12:11.290849Z",
     "iopub.status.idle": "2021-09-12T21:12:11.293991Z",
     "shell.execute_reply": "2021-09-12T21:12:11.294472Z",
     "shell.execute_reply.started": "2021-09-12T21:03:33.554831Z"
    },
    "papermill": {
     "duration": 0.116526,
     "end_time": "2021-09-12T21:12:11.294634",
     "exception": false,
     "start_time": "2021-09-12T21:12:11.178108",
     "status": "completed"
    },
    "tags": []
   },
   "outputs": [
    {
     "data": {
      "text/plain": [
       "S    644\n",
       "C    168\n",
       "Q     77\n",
       "Name: Embarked, dtype: int64"
      ]
     },
     "execution_count": 43,
     "metadata": {},
     "output_type": "execute_result"
    }
   ],
   "source": [
    "# What kind of values are in Embarked?\n",
    "train.Embarked.value_counts()"
   ]
  },
  {
   "cell_type": "code",
   "execution_count": 44,
   "id": "d333dfea",
   "metadata": {
    "execution": {
     "iopub.execute_input": "2021-09-12T21:12:11.517658Z",
     "iopub.status.busy": "2021-09-12T21:12:11.516633Z",
     "iopub.status.idle": "2021-09-12T21:12:11.703537Z",
     "shell.execute_reply": "2021-09-12T21:12:11.703017Z",
     "shell.execute_reply.started": "2021-09-12T21:03:33.568175Z"
    },
    "papermill": {
     "duration": 0.303072,
     "end_time": "2021-09-12T21:12:11.703675",
     "exception": false,
     "start_time": "2021-09-12T21:12:11.400603",
     "status": "completed"
    },
    "tags": []
   },
   "outputs": [
    {
     "data": {
      "text/plain": [
       "<AxesSubplot:xlabel='count', ylabel='Embarked'>"
      ]
     },
     "execution_count": 44,
     "metadata": {},
     "output_type": "execute_result"
    },
    {
     "data": {
      "image/png": "[encoded data removed]",
      "text/plain": [
       "<Figure size 432x288 with 1 Axes>"
      ]
     },
     "metadata": {},
     "output_type": "display_data"
    }
   ],
   "source": [
    "# What do the counts look like?\n",
    "sns.countplot(y='Embarked', data=train)"
   ]
  },
  {
   "cell_type": "code",
   "execution_count": 45,
   "id": "ee0ab042",
   "metadata": {
    "execution": {
     "iopub.execute_input": "2021-09-12T21:12:11.922297Z",
     "iopub.status.busy": "2021-09-12T21:12:11.921603Z",
     "iopub.status.idle": "2021-09-12T21:12:11.928064Z",
     "shell.execute_reply": "2021-09-12T21:12:11.928548Z",
     "shell.execute_reply.started": "2021-09-12T21:03:33.763875Z"
    },
    "papermill": {
     "duration": 0.1172,
     "end_time": "2021-09-12T21:12:11.928722",
     "exception": false,
     "start_time": "2021-09-12T21:12:11.811522",
     "status": "completed"
    },
    "tags": []
   },
   "outputs": [],
   "source": [
    "# Add Embarked to sub dataframes\n",
    "df_bin['Embarked'] = train['Embarked']\n",
    "df_con['Embarked'] = train['Embarked']\n",
    "df_bin_test['Embarked'] = test['Embarked']"
   ]
  },
  {
   "cell_type": "code",
   "execution_count": 46,
   "id": "3d44b5e3",
   "metadata": {
    "execution": {
     "iopub.execute_input": "2021-09-12T21:12:12.148066Z",
     "iopub.status.busy": "2021-09-12T21:12:12.147413Z",
     "iopub.status.idle": "2021-09-12T21:12:12.159151Z",
     "shell.execute_reply": "2021-09-12T21:12:12.159603Z",
     "shell.execute_reply.started": "2021-09-12T21:03:33.772663Z"
    },
    "papermill": {
     "duration": 0.122576,
     "end_time": "2021-09-12T21:12:12.159785",
     "exception": false,
     "start_time": "2021-09-12T21:12:12.037209",
     "status": "completed"
    },
    "tags": []
   },
   "outputs": [
    {
     "data": {
      "text/html": [
       "<div>\n",
       "<style scoped>\n",
       "    .dataframe tbody tr th:only-of-type {\n",
       "        vertical-align: middle;\n",
       "    }\n",
       "\n",
       "    .dataframe tbody tr th {\n",
       "        vertical-align: top;\n",
       "    }\n",
       "\n",
       "    .dataframe thead th {\n",
       "        text-align: right;\n",
       "    }\n",
       "</style>\n",
       "<table border=\"1\" class=\"dataframe\">\n",
       "  <thead>\n",
       "    <tr style=\"text-align: right;\">\n",
       "      <th></th>\n",
       "      <th>Survived</th>\n",
       "      <th>Pclass</th>\n",
       "      <th>Sex</th>\n",
       "      <th>SibSp</th>\n",
       "      <th>Parch</th>\n",
       "      <th>Fare</th>\n",
       "      <th>Embarked</th>\n",
       "    </tr>\n",
       "  </thead>\n",
       "  <tbody>\n",
       "    <tr>\n",
       "      <th>0</th>\n",
       "      <td>0</td>\n",
       "      <td>3</td>\n",
       "      <td>0</td>\n",
       "      <td>1</td>\n",
       "      <td>0</td>\n",
       "      <td>(-0.512, 102.466]</td>\n",
       "      <td>S</td>\n",
       "    </tr>\n",
       "    <tr>\n",
       "      <th>1</th>\n",
       "      <td>1</td>\n",
       "      <td>1</td>\n",
       "      <td>1</td>\n",
       "      <td>1</td>\n",
       "      <td>0</td>\n",
       "      <td>(-0.512, 102.466]</td>\n",
       "      <td>C</td>\n",
       "    </tr>\n",
       "  </tbody>\n",
       "</table>\n",
       "</div>"
      ],
      "text/plain": [
       "   Survived  Pclass  Sex  SibSp  Parch               Fare Embarked\n",
       "0         0       3    0      1      0  (-0.512, 102.466]        S\n",
       "1         1       1    1      1      0  (-0.512, 102.466]        C"
      ]
     },
     "execution_count": 46,
     "metadata": {},
     "output_type": "execute_result"
    }
   ],
   "source": [
    "df_bin.head(2)"
   ]
  },
  {
   "cell_type": "code",
   "execution_count": 47,
   "id": "0afab124",
   "metadata": {
    "execution": {
     "iopub.execute_input": "2021-09-12T21:12:12.377831Z",
     "iopub.status.busy": "2021-09-12T21:12:12.377206Z",
     "iopub.status.idle": "2021-09-12T21:12:12.388116Z",
     "shell.execute_reply": "2021-09-12T21:12:12.388685Z",
     "shell.execute_reply.started": "2021-09-12T21:03:33.791265Z"
    },
    "papermill": {
     "duration": 0.121679,
     "end_time": "2021-09-12T21:12:12.388869",
     "exception": false,
     "start_time": "2021-09-12T21:12:12.267190",
     "status": "completed"
    },
    "tags": []
   },
   "outputs": [
    {
     "data": {
      "text/html": [
       "<div>\n",
       "<style scoped>\n",
       "    .dataframe tbody tr th:only-of-type {\n",
       "        vertical-align: middle;\n",
       "    }\n",
       "\n",
       "    .dataframe tbody tr th {\n",
       "        vertical-align: top;\n",
       "    }\n",
       "\n",
       "    .dataframe thead th {\n",
       "        text-align: right;\n",
       "    }\n",
       "</style>\n",
       "<table border=\"1\" class=\"dataframe\">\n",
       "  <thead>\n",
       "    <tr style=\"text-align: right;\">\n",
       "      <th></th>\n",
       "      <th>Survived</th>\n",
       "      <th>Pclass</th>\n",
       "      <th>Sex</th>\n",
       "      <th>SibSp</th>\n",
       "      <th>Parch</th>\n",
       "      <th>Fare</th>\n",
       "      <th>Embarked</th>\n",
       "    </tr>\n",
       "  </thead>\n",
       "  <tbody>\n",
       "    <tr>\n",
       "      <th>0</th>\n",
       "      <td>0</td>\n",
       "      <td>3</td>\n",
       "      <td>male</td>\n",
       "      <td>1</td>\n",
       "      <td>0</td>\n",
       "      <td>7.2500</td>\n",
       "      <td>S</td>\n",
       "    </tr>\n",
       "    <tr>\n",
       "      <th>1</th>\n",
       "      <td>1</td>\n",
       "      <td>1</td>\n",
       "      <td>female</td>\n",
       "      <td>1</td>\n",
       "      <td>0</td>\n",
       "      <td>71.2833</td>\n",
       "      <td>C</td>\n",
       "    </tr>\n",
       "  </tbody>\n",
       "</table>\n",
       "</div>"
      ],
      "text/plain": [
       "   Survived  Pclass     Sex  SibSp  Parch     Fare Embarked\n",
       "0         0       3    male      1      0   7.2500        S\n",
       "1         1       1  female      1      0  71.2833        C"
      ]
     },
     "execution_count": 47,
     "metadata": {},
     "output_type": "execute_result"
    }
   ],
   "source": [
    "df_con.head(2)"
   ]
  },
  {
   "cell_type": "code",
   "execution_count": 48,
   "id": "c6a5e5dc",
   "metadata": {
    "execution": {
     "iopub.execute_input": "2021-09-12T21:12:12.608818Z",
     "iopub.status.busy": "2021-09-12T21:12:12.608164Z",
     "iopub.status.idle": "2021-09-12T21:12:12.622415Z",
     "shell.execute_reply": "2021-09-12T21:12:12.621775Z",
     "shell.execute_reply.started": "2021-09-12T21:03:33.808455Z"
    },
    "papermill": {
     "duration": 0.124977,
     "end_time": "2021-09-12T21:12:12.622549",
     "exception": false,
     "start_time": "2021-09-12T21:12:12.497572",
     "status": "completed"
    },
    "tags": []
   },
   "outputs": [
    {
     "data": {
      "text/html": [
       "<div>\n",
       "<style scoped>\n",
       "    .dataframe tbody tr th:only-of-type {\n",
       "        vertical-align: middle;\n",
       "    }\n",
       "\n",
       "    .dataframe tbody tr th {\n",
       "        vertical-align: top;\n",
       "    }\n",
       "\n",
       "    .dataframe thead th {\n",
       "        text-align: right;\n",
       "    }\n",
       "</style>\n",
       "<table border=\"1\" class=\"dataframe\">\n",
       "  <thead>\n",
       "    <tr style=\"text-align: right;\">\n",
       "      <th></th>\n",
       "      <th>PassengerId</th>\n",
       "      <th>Survived</th>\n",
       "      <th>Pclass</th>\n",
       "      <th>Name</th>\n",
       "      <th>Sex</th>\n",
       "      <th>Age</th>\n",
       "      <th>SibSp</th>\n",
       "      <th>Parch</th>\n",
       "      <th>Ticket</th>\n",
       "      <th>Fare</th>\n",
       "      <th>Cabin</th>\n",
       "      <th>Embarked</th>\n",
       "    </tr>\n",
       "  </thead>\n",
       "  <tbody>\n",
       "    <tr>\n",
       "      <th>0</th>\n",
       "      <td>1</td>\n",
       "      <td>0</td>\n",
       "      <td>3</td>\n",
       "      <td>Braund, Mr. Owen Harris</td>\n",
       "      <td>male</td>\n",
       "      <td>22.0</td>\n",
       "      <td>1</td>\n",
       "      <td>0</td>\n",
       "      <td>A/5 21171</td>\n",
       "      <td>7.2500</td>\n",
       "      <td>NaN</td>\n",
       "      <td>S</td>\n",
       "    </tr>\n",
       "    <tr>\n",
       "      <th>1</th>\n",
       "      <td>2</td>\n",
       "      <td>1</td>\n",
       "      <td>1</td>\n",
       "      <td>Cumings, Mrs. John Bradley (Florence Briggs Th...</td>\n",
       "      <td>female</td>\n",
       "      <td>38.0</td>\n",
       "      <td>1</td>\n",
       "      <td>0</td>\n",
       "      <td>PC 17599</td>\n",
       "      <td>71.2833</td>\n",
       "      <td>C85</td>\n",
       "      <td>C</td>\n",
       "    </tr>\n",
       "  </tbody>\n",
       "</table>\n",
       "</div>"
      ],
      "text/plain": [
       "   PassengerId  Survived  Pclass                                               Name     Sex   Age  SibSp  Parch     Ticket     Fare Cabin Embarked\n",
       "0            1         0       3                            Braund, Mr. Owen Harris    male  22.0      1      0  A/5 21171   7.2500   NaN        S\n",
       "1            2         1       1  Cumings, Mrs. John Bradley (Florence Briggs Th...  female  38.0      1      0   PC 17599  71.2833   C85        C"
      ]
     },
     "execution_count": 48,
     "metadata": {},
     "output_type": "execute_result"
    }
   ],
   "source": [
    "train.head(2)"
   ]
  },
  {
   "cell_type": "markdown",
   "id": "dfd89391",
   "metadata": {
    "papermill": {
     "duration": 0.110432,
     "end_time": "2021-09-12T21:12:12.841389",
     "exception": false,
     "start_time": "2021-09-12T21:12:12.730957",
     "status": "completed"
    },
    "tags": []
   },
   "source": [
    "## Data Cleaning - impute data or remove it (age, cabin, embarked)"
   ]
  },
  {
   "cell_type": "code",
   "execution_count": 49,
   "id": "b8c5849d",
   "metadata": {
    "execution": {
     "iopub.execute_input": "2021-09-12T21:12:13.065565Z",
     "iopub.status.busy": "2021-09-12T21:12:13.064953Z",
     "iopub.status.idle": "2021-09-12T21:12:13.071040Z",
     "shell.execute_reply": "2021-09-12T21:12:13.071543Z",
     "shell.execute_reply.started": "2021-09-12T21:03:33.827039Z"
    },
    "papermill": {
     "duration": 0.120969,
     "end_time": "2021-09-12T21:12:13.071712",
     "exception": false,
     "start_time": "2021-09-12T21:12:12.950743",
     "status": "completed"
    },
    "tags": []
   },
   "outputs": [
    {
     "data": {
      "text/plain": [
       "PassengerId      0\n",
       "Survived         0\n",
       "Pclass           0\n",
       "Name             0\n",
       "Sex              0\n",
       "Age            177\n",
       "SibSp            0\n",
       "Parch            0\n",
       "Ticket           0\n",
       "Fare             0\n",
       "Cabin          687\n",
       "Embarked         2\n",
       "dtype: int64"
      ]
     },
     "execution_count": 49,
     "metadata": {},
     "output_type": "execute_result"
    }
   ],
   "source": [
    "train.isnull().sum()"
   ]
  },
  {
   "cell_type": "code",
   "execution_count": 50,
   "id": "c3580069",
   "metadata": {
    "execution": {
     "iopub.execute_input": "2021-09-12T21:12:13.295492Z",
     "iopub.status.busy": "2021-09-12T21:12:13.294867Z",
     "iopub.status.idle": "2021-09-12T21:12:13.304026Z",
     "shell.execute_reply": "2021-09-12T21:12:13.304666Z",
     "shell.execute_reply.started": "2021-09-12T21:03:33.836677Z"
    },
    "papermill": {
     "duration": 0.124577,
     "end_time": "2021-09-12T21:12:13.304913",
     "exception": false,
     "start_time": "2021-09-12T21:12:13.180336",
     "status": "completed"
    },
    "tags": []
   },
   "outputs": [
    {
     "name": "stdout",
     "output_type": "stream",
     "text": [
      "891\n",
      "889\n"
     ]
    }
   ],
   "source": [
    "# Remove Embarked rows which are missing values\n",
    "print(len(df_con))\n",
    "df_con = df_con.dropna(subset=['Embarked'])\n",
    "df_bin = df_bin.dropna(subset=['Embarked'])\n",
    "\n",
    "df_bin_test = df_bin_test.dropna(subset=['Fare'])\n",
    "print(len(df_con))"
   ]
  },
  {
   "cell_type": "code",
   "execution_count": 51,
   "id": "c99cede6",
   "metadata": {
    "execution": {
     "iopub.execute_input": "2021-09-12T21:12:13.530654Z",
     "iopub.status.busy": "2021-09-12T21:12:13.530042Z",
     "iopub.status.idle": "2021-09-12T21:12:13.559187Z",
     "shell.execute_reply": "2021-09-12T21:12:13.558644Z",
     "shell.execute_reply.started": "2021-09-12T21:03:33.852435Z"
    },
    "papermill": {
     "duration": 0.144772,
     "end_time": "2021-09-12T21:12:13.559345",
     "exception": false,
     "start_time": "2021-09-12T21:12:13.414573",
     "status": "completed"
    },
    "tags": []
   },
   "outputs": [
    {
     "data": {
      "text/html": [
       "<div>\n",
       "<style scoped>\n",
       "    .dataframe tbody tr th:only-of-type {\n",
       "        vertical-align: middle;\n",
       "    }\n",
       "\n",
       "    .dataframe tbody tr th {\n",
       "        vertical-align: top;\n",
       "    }\n",
       "\n",
       "    .dataframe thead th {\n",
       "        text-align: right;\n",
       "    }\n",
       "</style>\n",
       "<table border=\"1\" class=\"dataframe\">\n",
       "  <thead>\n",
       "    <tr style=\"text-align: right;\">\n",
       "      <th></th>\n",
       "      <th>PassengerId</th>\n",
       "      <th>Survived</th>\n",
       "      <th>Pclass</th>\n",
       "      <th>Age</th>\n",
       "      <th>SibSp</th>\n",
       "      <th>Parch</th>\n",
       "      <th>Fare</th>\n",
       "    </tr>\n",
       "  </thead>\n",
       "  <tbody>\n",
       "    <tr>\n",
       "      <th>count</th>\n",
       "      <td>891.000000</td>\n",
       "      <td>891.000000</td>\n",
       "      <td>891.000000</td>\n",
       "      <td>714.000000</td>\n",
       "      <td>891.000000</td>\n",
       "      <td>891.000000</td>\n",
       "      <td>891.000000</td>\n",
       "    </tr>\n",
       "    <tr>\n",
       "      <th>mean</th>\n",
       "      <td>446.000000</td>\n",
       "      <td>0.383838</td>\n",
       "      <td>2.308642</td>\n",
       "      <td>29.699118</td>\n",
       "      <td>0.523008</td>\n",
       "      <td>0.381594</td>\n",
       "      <td>32.204208</td>\n",
       "    </tr>\n",
       "    <tr>\n",
       "      <th>std</th>\n",
       "      <td>257.353842</td>\n",
       "      <td>0.486592</td>\n",
       "      <td>0.836071</td>\n",
       "      <td>14.526497</td>\n",
       "      <td>1.102743</td>\n",
       "      <td>0.806057</td>\n",
       "      <td>49.693429</td>\n",
       "    </tr>\n",
       "    <tr>\n",
       "      <th>min</th>\n",
       "      <td>1.000000</td>\n",
       "      <td>0.000000</td>\n",
       "      <td>1.000000</td>\n",
       "      <td>0.420000</td>\n",
       "      <td>0.000000</td>\n",
       "      <td>0.000000</td>\n",
       "      <td>0.000000</td>\n",
       "    </tr>\n",
       "    <tr>\n",
       "      <th>25%</th>\n",
       "      <td>223.500000</td>\n",
       "      <td>0.000000</td>\n",
       "      <td>2.000000</td>\n",
       "      <td>20.125000</td>\n",
       "      <td>0.000000</td>\n",
       "      <td>0.000000</td>\n",
       "      <td>7.910400</td>\n",
       "    </tr>\n",
       "    <tr>\n",
       "      <th>50%</th>\n",
       "      <td>446.000000</td>\n",
       "      <td>0.000000</td>\n",
       "      <td>3.000000</td>\n",
       "      <td>28.000000</td>\n",
       "      <td>0.000000</td>\n",
       "      <td>0.000000</td>\n",
       "      <td>14.454200</td>\n",
       "    </tr>\n",
       "    <tr>\n",
       "      <th>75%</th>\n",
       "      <td>668.500000</td>\n",
       "      <td>1.000000</td>\n",
       "      <td>3.000000</td>\n",
       "      <td>38.000000</td>\n",
       "      <td>1.000000</td>\n",
       "      <td>0.000000</td>\n",
       "      <td>31.000000</td>\n",
       "    </tr>\n",
       "    <tr>\n",
       "      <th>max</th>\n",
       "      <td>891.000000</td>\n",
       "      <td>1.000000</td>\n",
       "      <td>3.000000</td>\n",
       "      <td>80.000000</td>\n",
       "      <td>8.000000</td>\n",
       "      <td>6.000000</td>\n",
       "      <td>512.329200</td>\n",
       "    </tr>\n",
       "  </tbody>\n",
       "</table>\n",
       "</div>"
      ],
      "text/plain": [
       "       PassengerId    Survived      Pclass         Age       SibSp       Parch        Fare\n",
       "count   891.000000  891.000000  891.000000  714.000000  891.000000  891.000000  891.000000\n",
       "mean    446.000000    0.383838    2.308642   29.699118    0.523008    0.381594   32.204208\n",
       "std     257.353842    0.486592    0.836071   14.526497    1.102743    0.806057   49.693429\n",
       "min       1.000000    0.000000    1.000000    0.420000    0.000000    0.000000    0.000000\n",
       "25%     223.500000    0.000000    2.000000   20.125000    0.000000    0.000000    7.910400\n",
       "50%     446.000000    0.000000    3.000000   28.000000    0.000000    0.000000   14.454200\n",
       "75%     668.500000    1.000000    3.000000   38.000000    1.000000    0.000000   31.000000\n",
       "max     891.000000    1.000000    3.000000   80.000000    8.000000    6.000000  512.329200"
      ]
     },
     "execution_count": 51,
     "metadata": {},
     "output_type": "execute_result"
    }
   ],
   "source": [
    "train.describe()"
   ]
  },
  {
   "cell_type": "code",
   "execution_count": 52,
   "id": "493d06da",
   "metadata": {
    "execution": {
     "iopub.execute_input": "2021-09-12T21:12:13.788589Z",
     "iopub.status.busy": "2021-09-12T21:12:13.785871Z",
     "iopub.status.idle": "2021-09-12T21:12:13.792497Z",
     "shell.execute_reply": "2021-09-12T21:12:13.791866Z",
     "shell.execute_reply.started": "2021-09-12T21:03:33.882584Z"
    },
    "papermill": {
     "duration": 0.123111,
     "end_time": "2021-09-12T21:12:13.792648",
     "exception": false,
     "start_time": "2021-09-12T21:12:13.669537",
     "status": "completed"
    },
    "tags": []
   },
   "outputs": [
    {
     "data": {
      "text/plain": [
       "0      22.0\n",
       "1      38.0\n",
       "2      26.0\n",
       "3      35.0\n",
       "4      35.0\n",
       "       ... \n",
       "886    27.0\n",
       "887    19.0\n",
       "888     NaN\n",
       "889    26.0\n",
       "890    32.0\n",
       "Name: Age, Length: 891, dtype: float64"
      ]
     },
     "execution_count": 52,
     "metadata": {},
     "output_type": "execute_result"
    }
   ],
   "source": [
    "train['Age']"
   ]
  },
  {
   "cell_type": "code",
   "execution_count": 53,
   "id": "1219e5a3",
   "metadata": {
    "execution": {
     "iopub.execute_input": "2021-09-12T21:12:14.018874Z",
     "iopub.status.busy": "2021-09-12T21:12:14.017845Z",
     "iopub.status.idle": "2021-09-12T21:12:14.026212Z",
     "shell.execute_reply": "2021-09-12T21:12:14.026679Z",
     "shell.execute_reply.started": "2021-09-12T21:03:33.892520Z"
    },
    "papermill": {
     "duration": 0.122736,
     "end_time": "2021-09-12T21:12:14.026874",
     "exception": false,
     "start_time": "2021-09-12T21:12:13.904138",
     "status": "completed"
    },
    "tags": []
   },
   "outputs": [
    {
     "data": {
      "text/plain": [
       "0"
      ]
     },
     "execution_count": 53,
     "metadata": {},
     "output_type": "execute_result"
    }
   ],
   "source": [
    "train['Age'].fillna((train['Age'].median()), inplace=True)\n",
    "test['Age'].fillna((test['Age'].median()), inplace=True)\n",
    "\n",
    "train.Age.isnull().sum()"
   ]
  },
  {
   "cell_type": "code",
   "execution_count": 54,
   "id": "69b6a726",
   "metadata": {
    "execution": {
     "iopub.execute_input": "2021-09-12T21:12:14.257353Z",
     "iopub.status.busy": "2021-09-12T21:12:14.256379Z",
     "iopub.status.idle": "2021-09-12T21:12:14.259528Z",
     "shell.execute_reply": "2021-09-12T21:12:14.260022Z",
     "shell.execute_reply.started": "2021-09-12T21:03:33.904048Z"
    },
    "papermill": {
     "duration": 0.121459,
     "end_time": "2021-09-12T21:12:14.260197",
     "exception": false,
     "start_time": "2021-09-12T21:12:14.138738",
     "status": "completed"
    },
    "tags": []
   },
   "outputs": [],
   "source": [
    "# Once the Age values have been fixed up, we can add them to our sub dataframes.\n",
    "#df_bin['Age'] = pd.cut(train['Age'], 10) # bucketed/binned into different categories\n",
    "#df_bin_test['Age'] = pd.cut(test['Age'], 10) # bucketed/binned into different categories\n",
    "#df_con['Age'] = train['Age'] # non-bucketed"
   ]
  },
  {
   "cell_type": "code",
   "execution_count": 55,
   "id": "38f11c90",
   "metadata": {
    "execution": {
     "iopub.execute_input": "2021-09-12T21:12:14.487235Z",
     "iopub.status.busy": "2021-09-12T21:12:14.486213Z",
     "iopub.status.idle": "2021-09-12T21:12:14.489770Z",
     "shell.execute_reply": "2021-09-12T21:12:14.490261Z",
     "shell.execute_reply.started": "2021-09-12T21:03:33.911785Z"
    },
    "papermill": {
     "duration": 0.119259,
     "end_time": "2021-09-12T21:12:14.490426",
     "exception": false,
     "start_time": "2021-09-12T21:12:14.371167",
     "status": "completed"
    },
    "tags": []
   },
   "outputs": [],
   "source": [
    "# ignore cabin for now"
   ]
  },
  {
   "cell_type": "markdown",
   "id": "d42c0d05",
   "metadata": {
    "papermill": {
     "duration": 0.111615,
     "end_time": "2021-09-12T21:12:14.742919",
     "exception": false,
     "start_time": "2021-09-12T21:12:14.631304",
     "status": "completed"
    },
    "tags": []
   },
   "source": [
    "## Correlation between metrics"
   ]
  },
  {
   "cell_type": "code",
   "execution_count": 56,
   "id": "b0798e38",
   "metadata": {
    "execution": {
     "iopub.execute_input": "2021-09-12T21:12:14.980058Z",
     "iopub.status.busy": "2021-09-12T21:12:14.979085Z",
     "iopub.status.idle": "2021-09-12T21:12:14.982643Z",
     "shell.execute_reply": "2021-09-12T21:12:14.983177Z",
     "shell.execute_reply.started": "2021-09-12T21:03:33.926545Z"
    },
    "papermill": {
     "duration": 0.127799,
     "end_time": "2021-09-12T21:12:14.983379",
     "exception": false,
     "start_time": "2021-09-12T21:12:14.855580",
     "status": "completed"
    },
    "tags": []
   },
   "outputs": [
    {
     "data": {
      "text/html": [
       "<div>\n",
       "<style scoped>\n",
       "    .dataframe tbody tr th:only-of-type {\n",
       "        vertical-align: middle;\n",
       "    }\n",
       "\n",
       "    .dataframe tbody tr th {\n",
       "        vertical-align: top;\n",
       "    }\n",
       "\n",
       "    .dataframe thead th {\n",
       "        text-align: right;\n",
       "    }\n",
       "</style>\n",
       "<table border=\"1\" class=\"dataframe\">\n",
       "  <thead>\n",
       "    <tr style=\"text-align: right;\">\n",
       "      <th></th>\n",
       "      <th>Survived</th>\n",
       "      <th>Pclass</th>\n",
       "      <th>Sex</th>\n",
       "      <th>SibSp</th>\n",
       "      <th>Parch</th>\n",
       "    </tr>\n",
       "  </thead>\n",
       "  <tbody>\n",
       "    <tr>\n",
       "      <th>Survived</th>\n",
       "      <td>1.000000</td>\n",
       "      <td>-0.335549</td>\n",
       "      <td>0.541585</td>\n",
       "      <td>-0.034040</td>\n",
       "      <td>0.083151</td>\n",
       "    </tr>\n",
       "    <tr>\n",
       "      <th>Pclass</th>\n",
       "      <td>-0.335549</td>\n",
       "      <td>1.000000</td>\n",
       "      <td>-0.127741</td>\n",
       "      <td>0.081656</td>\n",
       "      <td>0.016824</td>\n",
       "    </tr>\n",
       "    <tr>\n",
       "      <th>Sex</th>\n",
       "      <td>0.541585</td>\n",
       "      <td>-0.127741</td>\n",
       "      <td>1.000000</td>\n",
       "      <td>0.116348</td>\n",
       "      <td>0.247508</td>\n",
       "    </tr>\n",
       "    <tr>\n",
       "      <th>SibSp</th>\n",
       "      <td>-0.034040</td>\n",
       "      <td>0.081656</td>\n",
       "      <td>0.116348</td>\n",
       "      <td>1.000000</td>\n",
       "      <td>0.414542</td>\n",
       "    </tr>\n",
       "    <tr>\n",
       "      <th>Parch</th>\n",
       "      <td>0.083151</td>\n",
       "      <td>0.016824</td>\n",
       "      <td>0.247508</td>\n",
       "      <td>0.414542</td>\n",
       "      <td>1.000000</td>\n",
       "    </tr>\n",
       "  </tbody>\n",
       "</table>\n",
       "</div>"
      ],
      "text/plain": [
       "          Survived    Pclass       Sex     SibSp     Parch\n",
       "Survived  1.000000 -0.335549  0.541585 -0.034040  0.083151\n",
       "Pclass   -0.335549  1.000000 -0.127741  0.081656  0.016824\n",
       "Sex       0.541585 -0.127741  1.000000  0.116348  0.247508\n",
       "SibSp    -0.034040  0.081656  0.116348  1.000000  0.414542\n",
       "Parch     0.083151  0.016824  0.247508  0.414542  1.000000"
      ]
     },
     "execution_count": 56,
     "metadata": {},
     "output_type": "execute_result"
    }
   ],
   "source": [
    "df_bin.corr()\n",
    "# look at correlation between features. this is really useful for regresssion when we don't want to have to use 2 features that are very closely connected"
   ]
  },
  {
   "cell_type": "code",
   "execution_count": 57,
   "id": "0c465aaf",
   "metadata": {
    "execution": {
     "iopub.execute_input": "2021-09-12T21:12:15.213514Z",
     "iopub.status.busy": "2021-09-12T21:12:15.212713Z",
     "iopub.status.idle": "2021-09-12T21:12:15.488536Z",
     "shell.execute_reply": "2021-09-12T21:12:15.489016Z",
     "shell.execute_reply.started": "2021-09-12T21:03:33.945805Z"
    },
    "papermill": {
     "duration": 0.393389,
     "end_time": "2021-09-12T21:12:15.489199",
     "exception": false,
     "start_time": "2021-09-12T21:12:15.095810",
     "status": "completed"
    },
    "tags": []
   },
   "outputs": [
    {
     "data": {
      "text/plain": [
       "<AxesSubplot:>"
      ]
     },
     "execution_count": 57,
     "metadata": {},
     "output_type": "execute_result"
    },
    {
     "data": {
      "image/png": "[encoded data removed]",
      "text/plain": [
       "<Figure size 432x288 with 2 Axes>"
      ]
     },
     "metadata": {},
     "output_type": "display_data"
    }
   ],
   "source": [
    "sns.heatmap(df_bin.corr())"
   ]
  },
  {
   "cell_type": "markdown",
   "id": "abaf341d",
   "metadata": {
    "papermill": {
     "duration": 0.111875,
     "end_time": "2021-09-12T21:12:15.713629",
     "exception": false,
     "start_time": "2021-09-12T21:12:15.601754",
     "status": "completed"
    },
    "tags": []
   },
   "source": [
    "## Feature Engineering - (name, ticket, cabin)"
   ]
  },
  {
   "cell_type": "code",
   "execution_count": 58,
   "id": "9e00ad63",
   "metadata": {
    "execution": {
     "iopub.execute_input": "2021-09-12T21:12:15.941720Z",
     "iopub.status.busy": "2021-09-12T21:12:15.940753Z",
     "iopub.status.idle": "2021-09-12T21:12:15.954396Z",
     "shell.execute_reply": "2021-09-12T21:12:15.954989Z",
     "shell.execute_reply.started": "2021-09-12T21:03:34.215888Z"
    },
    "papermill": {
     "duration": 0.129211,
     "end_time": "2021-09-12T21:12:15.955161",
     "exception": false,
     "start_time": "2021-09-12T21:12:15.825950",
     "status": "completed"
    },
    "tags": []
   },
   "outputs": [
    {
     "data": {
      "text/plain": [
       "Mr              517\n",
       "Miss            182\n",
       "Mrs             125\n",
       "Master           40\n",
       "Dr                7\n",
       "Rev               6\n",
       "Mlle              2\n",
       "Major             2\n",
       "Col               2\n",
       "the Countess      1\n",
       "Capt              1\n",
       "Ms                1\n",
       "Sir               1\n",
       "Lady              1\n",
       "Mme               1\n",
       "Don               1\n",
       "Jonkheer          1\n",
       "Name: Name_Title, dtype: int64"
      ]
     },
     "execution_count": 58,
     "metadata": {},
     "output_type": "execute_result"
    }
   ],
   "source": [
    "# ignore ticket\n",
    "#ignore cabin\n",
    "# feature engineering on person's title\n",
    "train['Name_Title'] = train.Name.apply(lambda x: x.split(',')[1].split('.')[0].strip())\n",
    "test['Name_Title'] = test.Name.apply(lambda x: x.split(',')[1].split('.')[0].strip())\n",
    "train['Name_Title'].value_counts()"
   ]
  },
  {
   "cell_type": "code",
   "execution_count": 59,
   "id": "4a4584b0",
   "metadata": {
    "execution": {
     "iopub.execute_input": "2021-09-12T21:12:16.186041Z",
     "iopub.status.busy": "2021-09-12T21:12:16.185039Z",
     "iopub.status.idle": "2021-09-12T21:12:16.230735Z",
     "shell.execute_reply": "2021-09-12T21:12:16.231296Z",
     "shell.execute_reply.started": "2021-09-12T21:03:34.232219Z"
    },
    "papermill": {
     "duration": 0.16426,
     "end_time": "2021-09-12T21:12:16.231471",
     "exception": false,
     "start_time": "2021-09-12T21:12:16.067211",
     "status": "completed"
    },
    "tags": []
   },
   "outputs": [
    {
     "data": {
      "text/html": [
       "<div>\n",
       "<style scoped>\n",
       "    .dataframe tbody tr th:only-of-type {\n",
       "        vertical-align: middle;\n",
       "    }\n",
       "\n",
       "    .dataframe tbody tr th {\n",
       "        vertical-align: top;\n",
       "    }\n",
       "\n",
       "    .dataframe thead th {\n",
       "        text-align: right;\n",
       "    }\n",
       "</style>\n",
       "<table border=\"1\" class=\"dataframe\">\n",
       "  <thead>\n",
       "    <tr style=\"text-align: right;\">\n",
       "      <th>Name_Title</th>\n",
       "      <th>Survived</th>\n",
       "      <th>Capt</th>\n",
       "      <th>Col</th>\n",
       "      <th>Don</th>\n",
       "      <th>Dr</th>\n",
       "      <th>Jonkheer</th>\n",
       "      <th>Lady</th>\n",
       "      <th>Major</th>\n",
       "      <th>Master</th>\n",
       "      <th>Miss</th>\n",
       "      <th>Mlle</th>\n",
       "      <th>Mme</th>\n",
       "      <th>Mr</th>\n",
       "      <th>Mrs</th>\n",
       "      <th>Ms</th>\n",
       "      <th>Rev</th>\n",
       "      <th>Sir</th>\n",
       "      <th>the Countess</th>\n",
       "    </tr>\n",
       "  </thead>\n",
       "  <tbody>\n",
       "    <tr>\n",
       "      <th>0</th>\n",
       "      <td>0.0</td>\n",
       "      <td>1.0</td>\n",
       "      <td>1.0</td>\n",
       "      <td>1.0</td>\n",
       "      <td>4.000000</td>\n",
       "      <td>1.0</td>\n",
       "      <td>NaN</td>\n",
       "      <td>1.0</td>\n",
       "      <td>17.000</td>\n",
       "      <td>55.000000</td>\n",
       "      <td>NaN</td>\n",
       "      <td>NaN</td>\n",
       "      <td>436.000000</td>\n",
       "      <td>26.000</td>\n",
       "      <td>NaN</td>\n",
       "      <td>6.0</td>\n",
       "      <td>NaN</td>\n",
       "      <td>NaN</td>\n",
       "    </tr>\n",
       "    <tr>\n",
       "      <th>1</th>\n",
       "      <td>1.0</td>\n",
       "      <td>NaN</td>\n",
       "      <td>1.0</td>\n",
       "      <td>NaN</td>\n",
       "      <td>3.000000</td>\n",
       "      <td>NaN</td>\n",
       "      <td>1.0</td>\n",
       "      <td>1.0</td>\n",
       "      <td>23.000</td>\n",
       "      <td>127.000000</td>\n",
       "      <td>2.0</td>\n",
       "      <td>1.0</td>\n",
       "      <td>81.000000</td>\n",
       "      <td>99.000</td>\n",
       "      <td>1.0</td>\n",
       "      <td>NaN</td>\n",
       "      <td>1.0</td>\n",
       "      <td>1.0</td>\n",
       "    </tr>\n",
       "    <tr>\n",
       "      <th>sum</th>\n",
       "      <td>1.0</td>\n",
       "      <td>NaN</td>\n",
       "      <td>2.0</td>\n",
       "      <td>NaN</td>\n",
       "      <td>7.000000</td>\n",
       "      <td>NaN</td>\n",
       "      <td>NaN</td>\n",
       "      <td>2.0</td>\n",
       "      <td>40.000</td>\n",
       "      <td>182.000000</td>\n",
       "      <td>NaN</td>\n",
       "      <td>NaN</td>\n",
       "      <td>517.000000</td>\n",
       "      <td>125.000</td>\n",
       "      <td>NaN</td>\n",
       "      <td>NaN</td>\n",
       "      <td>NaN</td>\n",
       "      <td>NaN</td>\n",
       "    </tr>\n",
       "    <tr>\n",
       "      <th>survival_percentage</th>\n",
       "      <td>1.0</td>\n",
       "      <td>NaN</td>\n",
       "      <td>0.5</td>\n",
       "      <td>NaN</td>\n",
       "      <td>0.428571</td>\n",
       "      <td>NaN</td>\n",
       "      <td>NaN</td>\n",
       "      <td>0.5</td>\n",
       "      <td>0.575</td>\n",
       "      <td>0.697802</td>\n",
       "      <td>NaN</td>\n",
       "      <td>NaN</td>\n",
       "      <td>0.156673</td>\n",
       "      <td>0.792</td>\n",
       "      <td>NaN</td>\n",
       "      <td>NaN</td>\n",
       "      <td>NaN</td>\n",
       "      <td>NaN</td>\n",
       "    </tr>\n",
       "  </tbody>\n",
       "</table>\n",
       "</div>"
      ],
      "text/plain": [
       "Name_Title           Survived  Capt  Col  Don        Dr  Jonkheer  Lady  Major  Master        Miss  Mlle  Mme          Mr      Mrs   Ms  Rev  Sir  the Countess\n",
       "0                         0.0   1.0  1.0  1.0  4.000000       1.0   NaN    1.0  17.000   55.000000   NaN  NaN  436.000000   26.000  NaN  6.0  NaN           NaN\n",
       "1                         1.0   NaN  1.0  NaN  3.000000       NaN   1.0    1.0  23.000  127.000000   2.0  1.0   81.000000   99.000  1.0  NaN  1.0           1.0\n",
       "sum                       1.0   NaN  2.0  NaN  7.000000       NaN   NaN    2.0  40.000  182.000000   NaN  NaN  517.000000  125.000  NaN  NaN  NaN           NaN\n",
       "survival_percentage       1.0   NaN  0.5  NaN  0.428571       NaN   NaN    0.5   0.575    0.697802   NaN  NaN    0.156673    0.792  NaN  NaN  NaN           NaN"
      ]
     },
     "execution_count": 59,
     "metadata": {},
     "output_type": "execute_result"
    }
   ],
   "source": [
    "Name_title_survival = pd.pivot_table(train, index = 'Survived', columns = ['Name_Title'], values = 'Ticket', aggfunc = 'count').reset_index()\n",
    "Name_title_survival.loc['sum'] = Name_title_survival.iloc[0] + Name_title_survival.iloc[1]\n",
    "Name_title_survival.loc['survival_percentage'] = Name_title_survival.iloc[1] / Name_title_survival.iloc[2]\n",
    "Name_title_survival"
   ]
  },
  {
   "cell_type": "code",
   "execution_count": 60,
   "id": "6cae7b5f",
   "metadata": {
    "execution": {
     "iopub.execute_input": "2021-09-12T21:12:16.477148Z",
     "iopub.status.busy": "2021-09-12T21:12:16.471455Z",
     "iopub.status.idle": "2021-09-12T21:12:16.481409Z",
     "shell.execute_reply": "2021-09-12T21:12:16.480893Z",
     "shell.execute_reply.started": "2021-09-12T21:03:34.279889Z"
    },
    "papermill": {
     "duration": 0.134413,
     "end_time": "2021-09-12T21:12:16.481566",
     "exception": false,
     "start_time": "2021-09-12T21:12:16.347153",
     "status": "completed"
    },
    "tags": []
   },
   "outputs": [
    {
     "data": {
      "text/html": [
       "<div>\n",
       "<style scoped>\n",
       "    .dataframe tbody tr th:only-of-type {\n",
       "        vertical-align: middle;\n",
       "    }\n",
       "\n",
       "    .dataframe tbody tr th {\n",
       "        vertical-align: top;\n",
       "    }\n",
       "\n",
       "    .dataframe thead th {\n",
       "        text-align: right;\n",
       "    }\n",
       "</style>\n",
       "<table border=\"1\" class=\"dataframe\">\n",
       "  <thead>\n",
       "    <tr style=\"text-align: right;\">\n",
       "      <th></th>\n",
       "      <th>PassengerId</th>\n",
       "      <th>Survived</th>\n",
       "      <th>Pclass</th>\n",
       "      <th>Name</th>\n",
       "      <th>Sex</th>\n",
       "      <th>Age</th>\n",
       "      <th>SibSp</th>\n",
       "      <th>Parch</th>\n",
       "      <th>Ticket</th>\n",
       "      <th>Fare</th>\n",
       "      <th>Cabin</th>\n",
       "      <th>Embarked</th>\n",
       "      <th>Name_Title</th>\n",
       "    </tr>\n",
       "  </thead>\n",
       "  <tbody>\n",
       "    <tr>\n",
       "      <th>0</th>\n",
       "      <td>1</td>\n",
       "      <td>0</td>\n",
       "      <td>3</td>\n",
       "      <td>Braund, Mr. Owen Harris</td>\n",
       "      <td>male</td>\n",
       "      <td>22.0</td>\n",
       "      <td>1</td>\n",
       "      <td>0</td>\n",
       "      <td>A/5 21171</td>\n",
       "      <td>7.25</td>\n",
       "      <td>NaN</td>\n",
       "      <td>S</td>\n",
       "      <td>Mr</td>\n",
       "    </tr>\n",
       "  </tbody>\n",
       "</table>\n",
       "</div>"
      ],
      "text/plain": [
       "   PassengerId  Survived  Pclass                     Name   Sex   Age  SibSp  Parch     Ticket  Fare Cabin Embarked Name_Title\n",
       "0            1         0       3  Braund, Mr. Owen Harris  male  22.0      1      0  A/5 21171  7.25   NaN        S         Mr"
      ]
     },
     "execution_count": 60,
     "metadata": {},
     "output_type": "execute_result"
    }
   ],
   "source": [
    "train.head(1)"
   ]
  },
  {
   "cell_type": "code",
   "execution_count": 61,
   "id": "71cc6060",
   "metadata": {
    "execution": {
     "iopub.execute_input": "2021-09-12T21:12:16.716440Z",
     "iopub.status.busy": "2021-09-12T21:12:16.715757Z",
     "iopub.status.idle": "2021-09-12T21:12:16.721655Z",
     "shell.execute_reply": "2021-09-12T21:12:16.721131Z",
     "shell.execute_reply.started": "2021-09-12T21:03:34.295831Z"
    },
    "papermill": {
     "duration": 0.126515,
     "end_time": "2021-09-12T21:12:16.721818",
     "exception": false,
     "start_time": "2021-09-12T21:12:16.595303",
     "status": "completed"
    },
    "tags": []
   },
   "outputs": [],
   "source": [
    "# Add Name_Title to sub dataframes\n",
    "df_bin['Name_Title'] = train['Name_Title']\n",
    "df_bin_test['Name_Title'] = test['Name_Title']\n",
    "df_con['Name_Title'] = train['Name_Title']"
   ]
  },
  {
   "cell_type": "code",
   "execution_count": 62,
   "id": "77ab7667",
   "metadata": {
    "execution": {
     "iopub.execute_input": "2021-09-12T21:12:16.963659Z",
     "iopub.status.busy": "2021-09-12T21:12:16.962955Z",
     "iopub.status.idle": "2021-09-12T21:12:16.965468Z",
     "shell.execute_reply": "2021-09-12T21:12:16.966079Z",
     "shell.execute_reply.started": "2021-09-12T21:03:34.309977Z"
    },
    "papermill": {
     "duration": 0.12872,
     "end_time": "2021-09-12T21:12:16.966244",
     "exception": false,
     "start_time": "2021-09-12T21:12:16.837524",
     "status": "completed"
    },
    "tags": []
   },
   "outputs": [
    {
     "data": {
      "text/html": [
       "<div>\n",
       "<style scoped>\n",
       "    .dataframe tbody tr th:only-of-type {\n",
       "        vertical-align: middle;\n",
       "    }\n",
       "\n",
       "    .dataframe tbody tr th {\n",
       "        vertical-align: top;\n",
       "    }\n",
       "\n",
       "    .dataframe thead th {\n",
       "        text-align: right;\n",
       "    }\n",
       "</style>\n",
       "<table border=\"1\" class=\"dataframe\">\n",
       "  <thead>\n",
       "    <tr style=\"text-align: right;\">\n",
       "      <th></th>\n",
       "      <th>Survived</th>\n",
       "      <th>Pclass</th>\n",
       "      <th>Sex</th>\n",
       "      <th>SibSp</th>\n",
       "      <th>Parch</th>\n",
       "      <th>Fare</th>\n",
       "      <th>Embarked</th>\n",
       "      <th>Name_Title</th>\n",
       "    </tr>\n",
       "  </thead>\n",
       "  <tbody>\n",
       "    <tr>\n",
       "      <th>0</th>\n",
       "      <td>0</td>\n",
       "      <td>3</td>\n",
       "      <td>0</td>\n",
       "      <td>1</td>\n",
       "      <td>0</td>\n",
       "      <td>(-0.512, 102.466]</td>\n",
       "      <td>S</td>\n",
       "      <td>Mr</td>\n",
       "    </tr>\n",
       "  </tbody>\n",
       "</table>\n",
       "</div>"
      ],
      "text/plain": [
       "   Survived  Pclass  Sex  SibSp  Parch               Fare Embarked Name_Title\n",
       "0         0       3    0      1      0  (-0.512, 102.466]        S         Mr"
      ]
     },
     "execution_count": 62,
     "metadata": {},
     "output_type": "execute_result"
    }
   ],
   "source": [
    "df_bin.head(1)"
   ]
  },
  {
   "cell_type": "markdown",
   "id": "c4f6a36f",
   "metadata": {
    "papermill": {
     "duration": 0.114056,
     "end_time": "2021-09-12T21:12:17.194167",
     "exception": false,
     "start_time": "2021-09-12T21:12:17.080111",
     "status": "completed"
    },
    "tags": []
   },
   "source": [
    "## Data pre-processing for model\n",
    "    pr-process data together or use a transformer\n"
   ]
  },
  {
   "cell_type": "code",
   "execution_count": 63,
   "id": "2432f8aa",
   "metadata": {
    "execution": {
     "iopub.execute_input": "2021-09-12T21:12:17.425521Z",
     "iopub.status.busy": "2021-09-12T21:12:17.424896Z",
     "iopub.status.idle": "2021-09-12T21:12:17.437507Z",
     "shell.execute_reply": "2021-09-12T21:12:17.437013Z",
     "shell.execute_reply.started": "2021-09-12T21:03:34.328839Z"
    },
    "papermill": {
     "duration": 0.129344,
     "end_time": "2021-09-12T21:12:17.437652",
     "exception": false,
     "start_time": "2021-09-12T21:12:17.308308",
     "status": "completed"
    },
    "tags": []
   },
   "outputs": [
    {
     "data": {
      "text/html": [
       "<div>\n",
       "<style scoped>\n",
       "    .dataframe tbody tr th:only-of-type {\n",
       "        vertical-align: middle;\n",
       "    }\n",
       "\n",
       "    .dataframe tbody tr th {\n",
       "        vertical-align: top;\n",
       "    }\n",
       "\n",
       "    .dataframe thead th {\n",
       "        text-align: right;\n",
       "    }\n",
       "</style>\n",
       "<table border=\"1\" class=\"dataframe\">\n",
       "  <thead>\n",
       "    <tr style=\"text-align: right;\">\n",
       "      <th></th>\n",
       "      <th>Survived</th>\n",
       "      <th>Pclass</th>\n",
       "      <th>Sex</th>\n",
       "      <th>SibSp</th>\n",
       "      <th>Parch</th>\n",
       "      <th>Fare</th>\n",
       "      <th>Embarked</th>\n",
       "      <th>Name_Title</th>\n",
       "    </tr>\n",
       "  </thead>\n",
       "  <tbody>\n",
       "    <tr>\n",
       "      <th>0</th>\n",
       "      <td>0</td>\n",
       "      <td>3</td>\n",
       "      <td>0</td>\n",
       "      <td>1</td>\n",
       "      <td>0</td>\n",
       "      <td>(-0.512, 102.466]</td>\n",
       "      <td>S</td>\n",
       "      <td>Mr</td>\n",
       "    </tr>\n",
       "  </tbody>\n",
       "</table>\n",
       "</div>"
      ],
      "text/plain": [
       "   Survived  Pclass  Sex  SibSp  Parch               Fare Embarked Name_Title\n",
       "0         0       3    0      1      0  (-0.512, 102.466]        S         Mr"
      ]
     },
     "execution_count": 63,
     "metadata": {},
     "output_type": "execute_result"
    }
   ],
   "source": [
    "# encode our binned dataframe (df_bin) with one-hot encoding and our continuous dataframe (df_con) with the label encoding function from sklearn.\n",
    "df_bin.head(1)"
   ]
  },
  {
   "cell_type": "code",
   "execution_count": 64,
   "id": "05f051a8",
   "metadata": {
    "execution": {
     "iopub.execute_input": "2021-09-12T21:12:17.676112Z",
     "iopub.status.busy": "2021-09-12T21:12:17.675394Z",
     "iopub.status.idle": "2021-09-12T21:12:17.702523Z",
     "shell.execute_reply": "2021-09-12T21:12:17.703132Z",
     "shell.execute_reply.started": "2021-09-12T21:03:34.346915Z"
    },
    "papermill": {
     "duration": 0.150294,
     "end_time": "2021-09-12T21:12:17.703333",
     "exception": false,
     "start_time": "2021-09-12T21:12:17.553039",
     "status": "completed"
    },
    "tags": []
   },
   "outputs": [
    {
     "data": {
      "text/html": [
       "<div>\n",
       "<style scoped>\n",
       "    .dataframe tbody tr th:only-of-type {\n",
       "        vertical-align: middle;\n",
       "    }\n",
       "\n",
       "    .dataframe tbody tr th {\n",
       "        vertical-align: top;\n",
       "    }\n",
       "\n",
       "    .dataframe thead th {\n",
       "        text-align: right;\n",
       "    }\n",
       "</style>\n",
       "<table border=\"1\" class=\"dataframe\">\n",
       "  <thead>\n",
       "    <tr style=\"text-align: right;\">\n",
       "      <th></th>\n",
       "      <th>Survived</th>\n",
       "      <th>Pclass_1</th>\n",
       "      <th>Pclass_2</th>\n",
       "      <th>Pclass_3</th>\n",
       "      <th>Sex_0</th>\n",
       "      <th>Sex_1</th>\n",
       "      <th>SibSp_0</th>\n",
       "      <th>SibSp_1</th>\n",
       "      <th>SibSp_2</th>\n",
       "      <th>SibSp_3</th>\n",
       "      <th>SibSp_4</th>\n",
       "      <th>SibSp_5</th>\n",
       "      <th>SibSp_8</th>\n",
       "      <th>Parch_0</th>\n",
       "      <th>Parch_1</th>\n",
       "      <th>Parch_2</th>\n",
       "      <th>Parch_3</th>\n",
       "      <th>Parch_4</th>\n",
       "      <th>Parch_5</th>\n",
       "      <th>Parch_6</th>\n",
       "      <th>Fare_(-0.512, 102.466]</th>\n",
       "      <th>Fare_(102.466, 204.932]</th>\n",
       "      <th>Fare_(204.932, 307.398]</th>\n",
       "      <th>Fare_(307.398, 409.863]</th>\n",
       "      <th>Fare_(409.863, 512.329]</th>\n",
       "      <th>Embarked_C</th>\n",
       "      <th>Embarked_Q</th>\n",
       "      <th>Embarked_S</th>\n",
       "      <th>Name_Title_Capt</th>\n",
       "      <th>Name_Title_Col</th>\n",
       "      <th>Name_Title_Don</th>\n",
       "      <th>Name_Title_Dr</th>\n",
       "      <th>Name_Title_Jonkheer</th>\n",
       "      <th>Name_Title_Lady</th>\n",
       "      <th>Name_Title_Major</th>\n",
       "      <th>Name_Title_Master</th>\n",
       "      <th>Name_Title_Miss</th>\n",
       "      <th>Name_Title_Mlle</th>\n",
       "      <th>Name_Title_Mme</th>\n",
       "      <th>Name_Title_Mr</th>\n",
       "      <th>Name_Title_Mrs</th>\n",
       "      <th>Name_Title_Ms</th>\n",
       "      <th>Name_Title_Rev</th>\n",
       "      <th>Name_Title_Sir</th>\n",
       "      <th>Name_Title_the Countess</th>\n",
       "    </tr>\n",
       "  </thead>\n",
       "  <tbody>\n",
       "    <tr>\n",
       "      <th>0</th>\n",
       "      <td>0</td>\n",
       "      <td>0</td>\n",
       "      <td>0</td>\n",
       "      <td>1</td>\n",
       "      <td>1</td>\n",
       "      <td>0</td>\n",
       "      <td>0</td>\n",
       "      <td>1</td>\n",
       "      <td>0</td>\n",
       "      <td>0</td>\n",
       "      <td>0</td>\n",
       "      <td>0</td>\n",
       "      <td>0</td>\n",
       "      <td>1</td>\n",
       "      <td>0</td>\n",
       "      <td>0</td>\n",
       "      <td>0</td>\n",
       "      <td>0</td>\n",
       "      <td>0</td>\n",
       "      <td>0</td>\n",
       "      <td>1</td>\n",
       "      <td>0</td>\n",
       "      <td>0</td>\n",
       "      <td>0</td>\n",
       "      <td>0</td>\n",
       "      <td>0</td>\n",
       "      <td>0</td>\n",
       "      <td>1</td>\n",
       "      <td>0</td>\n",
       "      <td>0</td>\n",
       "      <td>0</td>\n",
       "      <td>0</td>\n",
       "      <td>0</td>\n",
       "      <td>0</td>\n",
       "      <td>0</td>\n",
       "      <td>0</td>\n",
       "      <td>0</td>\n",
       "      <td>0</td>\n",
       "      <td>0</td>\n",
       "      <td>1</td>\n",
       "      <td>0</td>\n",
       "      <td>0</td>\n",
       "      <td>0</td>\n",
       "      <td>0</td>\n",
       "      <td>0</td>\n",
       "    </tr>\n",
       "    <tr>\n",
       "      <th>1</th>\n",
       "      <td>1</td>\n",
       "      <td>1</td>\n",
       "      <td>0</td>\n",
       "      <td>0</td>\n",
       "      <td>0</td>\n",
       "      <td>1</td>\n",
       "      <td>0</td>\n",
       "      <td>1</td>\n",
       "      <td>0</td>\n",
       "      <td>0</td>\n",
       "      <td>0</td>\n",
       "      <td>0</td>\n",
       "      <td>0</td>\n",
       "      <td>1</td>\n",
       "      <td>0</td>\n",
       "      <td>0</td>\n",
       "      <td>0</td>\n",
       "      <td>0</td>\n",
       "      <td>0</td>\n",
       "      <td>0</td>\n",
       "      <td>1</td>\n",
       "      <td>0</td>\n",
       "      <td>0</td>\n",
       "      <td>0</td>\n",
       "      <td>0</td>\n",
       "      <td>1</td>\n",
       "      <td>0</td>\n",
       "      <td>0</td>\n",
       "      <td>0</td>\n",
       "      <td>0</td>\n",
       "      <td>0</td>\n",
       "      <td>0</td>\n",
       "      <td>0</td>\n",
       "      <td>0</td>\n",
       "      <td>0</td>\n",
       "      <td>0</td>\n",
       "      <td>0</td>\n",
       "      <td>0</td>\n",
       "      <td>0</td>\n",
       "      <td>0</td>\n",
       "      <td>1</td>\n",
       "      <td>0</td>\n",
       "      <td>0</td>\n",
       "      <td>0</td>\n",
       "      <td>0</td>\n",
       "    </tr>\n",
       "    <tr>\n",
       "      <th>2</th>\n",
       "      <td>1</td>\n",
       "      <td>0</td>\n",
       "      <td>0</td>\n",
       "      <td>1</td>\n",
       "      <td>0</td>\n",
       "      <td>1</td>\n",
       "      <td>1</td>\n",
       "      <td>0</td>\n",
       "      <td>0</td>\n",
       "      <td>0</td>\n",
       "      <td>0</td>\n",
       "      <td>0</td>\n",
       "      <td>0</td>\n",
       "      <td>1</td>\n",
       "      <td>0</td>\n",
       "      <td>0</td>\n",
       "      <td>0</td>\n",
       "      <td>0</td>\n",
       "      <td>0</td>\n",
       "      <td>0</td>\n",
       "      <td>1</td>\n",
       "      <td>0</td>\n",
       "      <td>0</td>\n",
       "      <td>0</td>\n",
       "      <td>0</td>\n",
       "      <td>0</td>\n",
       "      <td>0</td>\n",
       "      <td>1</td>\n",
       "      <td>0</td>\n",
       "      <td>0</td>\n",
       "      <td>0</td>\n",
       "      <td>0</td>\n",
       "      <td>0</td>\n",
       "      <td>0</td>\n",
       "      <td>0</td>\n",
       "      <td>0</td>\n",
       "      <td>1</td>\n",
       "      <td>0</td>\n",
       "      <td>0</td>\n",
       "      <td>0</td>\n",
       "      <td>0</td>\n",
       "      <td>0</td>\n",
       "      <td>0</td>\n",
       "      <td>0</td>\n",
       "      <td>0</td>\n",
       "    </tr>\n",
       "    <tr>\n",
       "      <th>3</th>\n",
       "      <td>1</td>\n",
       "      <td>1</td>\n",
       "      <td>0</td>\n",
       "      <td>0</td>\n",
       "      <td>0</td>\n",
       "      <td>1</td>\n",
       "      <td>0</td>\n",
       "      <td>1</td>\n",
       "      <td>0</td>\n",
       "      <td>0</td>\n",
       "      <td>0</td>\n",
       "      <td>0</td>\n",
       "      <td>0</td>\n",
       "      <td>1</td>\n",
       "      <td>0</td>\n",
       "      <td>0</td>\n",
       "      <td>0</td>\n",
       "      <td>0</td>\n",
       "      <td>0</td>\n",
       "      <td>0</td>\n",
       "      <td>1</td>\n",
       "      <td>0</td>\n",
       "      <td>0</td>\n",
       "      <td>0</td>\n",
       "      <td>0</td>\n",
       "      <td>0</td>\n",
       "      <td>0</td>\n",
       "      <td>1</td>\n",
       "      <td>0</td>\n",
       "      <td>0</td>\n",
       "      <td>0</td>\n",
       "      <td>0</td>\n",
       "      <td>0</td>\n",
       "      <td>0</td>\n",
       "      <td>0</td>\n",
       "      <td>0</td>\n",
       "      <td>0</td>\n",
       "      <td>0</td>\n",
       "      <td>0</td>\n",
       "      <td>0</td>\n",
       "      <td>1</td>\n",
       "      <td>0</td>\n",
       "      <td>0</td>\n",
       "      <td>0</td>\n",
       "      <td>0</td>\n",
       "    </tr>\n",
       "    <tr>\n",
       "      <th>4</th>\n",
       "      <td>0</td>\n",
       "      <td>0</td>\n",
       "      <td>0</td>\n",
       "      <td>1</td>\n",
       "      <td>1</td>\n",
       "      <td>0</td>\n",
       "      <td>1</td>\n",
       "      <td>0</td>\n",
       "      <td>0</td>\n",
       "      <td>0</td>\n",
       "      <td>0</td>\n",
       "      <td>0</td>\n",
       "      <td>0</td>\n",
       "      <td>1</td>\n",
       "      <td>0</td>\n",
       "      <td>0</td>\n",
       "      <td>0</td>\n",
       "      <td>0</td>\n",
       "      <td>0</td>\n",
       "      <td>0</td>\n",
       "      <td>1</td>\n",
       "      <td>0</td>\n",
       "      <td>0</td>\n",
       "      <td>0</td>\n",
       "      <td>0</td>\n",
       "      <td>0</td>\n",
       "      <td>0</td>\n",
       "      <td>1</td>\n",
       "      <td>0</td>\n",
       "      <td>0</td>\n",
       "      <td>0</td>\n",
       "      <td>0</td>\n",
       "      <td>0</td>\n",
       "      <td>0</td>\n",
       "      <td>0</td>\n",
       "      <td>0</td>\n",
       "      <td>0</td>\n",
       "      <td>0</td>\n",
       "      <td>0</td>\n",
       "      <td>1</td>\n",
       "      <td>0</td>\n",
       "      <td>0</td>\n",
       "      <td>0</td>\n",
       "      <td>0</td>\n",
       "      <td>0</td>\n",
       "    </tr>\n",
       "  </tbody>\n",
       "</table>\n",
       "</div>"
      ],
      "text/plain": [
       "   Survived  Pclass_1  Pclass_2  Pclass_3  Sex_0  Sex_1  SibSp_0  SibSp_1  SibSp_2  SibSp_3  SibSp_4  SibSp_5  SibSp_8  Parch_0  Parch_1  Parch_2  Parch_3  Parch_4  Parch_5  Parch_6  Fare_(-0.512, 102.466]  Fare_(102.466, 204.932]  Fare_(204.932, 307.398]  Fare_(307.398, 409.863]  Fare_(409.863, 512.329]  Embarked_C  Embarked_Q  Embarked_S  Name_Title_Capt  Name_Title_Col  Name_Title_Don  Name_Title_Dr  Name_Title_Jonkheer  Name_Title_Lady  Name_Title_Major  Name_Title_Master  Name_Title_Miss  Name_Title_Mlle  Name_Title_Mme  Name_Title_Mr  Name_Title_Mrs  Name_Title_Ms  Name_Title_Rev  Name_Title_Sir  Name_Title_the Countess\n",
       "0         0         0         0         1      1      0        0        1        0        0        0        0        0        1        0        0        0        0        0        0                       1                        0                        0                        0                        0           0           0           1                0               0               0              0                    0                0                 0                  0                0                0               0              1               0              0               0               0                        0\n",
       "1         1         1         0         0      0      1        0        1        0        0        0        0        0        1        0        0        0        0        0        0                       1                        0                        0                        0                        0           1           0           0                0               0               0              0                    0                0                 0                  0                0                0               0              0               1              0               0               0                        0\n",
       "2         1         0         0         1      0      1        1        0        0        0        0        0        0        1        0        0        0        0        0        0                       1                        0                        0                        0                        0           0           0           1                0               0               0              0                    0                0                 0                  0                1                0               0              0               0              0               0               0                        0\n",
       "3         1         1         0         0      0      1        0        1        0        0        0        0        0        1        0        0        0        0        0        0                       1                        0                        0                        0                        0           0           0           1                0               0               0              0                    0                0                 0                  0                0                0               0              0               1              0               0               0                        0\n",
       "4         0         0         0         1      1      0        1        0        0        0        0        0        0        1        0        0        0        0        0        0                       1                        0                        0                        0                        0           0           0           1                0               0               0              0                    0                0                 0                  0                0                0               0              1               0              0               0               0                        0"
      ]
     },
     "execution_count": 64,
     "metadata": {},
     "output_type": "execute_result"
    }
   ],
   "source": [
    "# One-hot encode binned variables\n",
    "one_hot_cols = df_bin.columns.tolist()\n",
    "one_hot_cols.remove('Survived')\n",
    "df_bin_enc = pd.get_dummies(df_bin, columns=one_hot_cols)\n",
    "\n",
    "df_bin_enc.head()"
   ]
  },
  {
   "cell_type": "code",
   "execution_count": 65,
   "id": "9a53fb2b",
   "metadata": {
    "execution": {
     "iopub.execute_input": "2021-09-12T21:12:17.939521Z",
     "iopub.status.busy": "2021-09-12T21:12:17.938512Z",
     "iopub.status.idle": "2021-09-12T21:12:17.950359Z",
     "shell.execute_reply": "2021-09-12T21:12:17.950909Z",
     "shell.execute_reply.started": "2021-09-12T21:03:34.384458Z"
    },
    "papermill": {
     "duration": 0.1312,
     "end_time": "2021-09-12T21:12:17.951100",
     "exception": false,
     "start_time": "2021-09-12T21:12:17.819900",
     "status": "completed"
    },
    "tags": []
   },
   "outputs": [
    {
     "data": {
      "text/html": [
       "<div>\n",
       "<style scoped>\n",
       "    .dataframe tbody tr th:only-of-type {\n",
       "        vertical-align: middle;\n",
       "    }\n",
       "\n",
       "    .dataframe tbody tr th {\n",
       "        vertical-align: top;\n",
       "    }\n",
       "\n",
       "    .dataframe thead th {\n",
       "        text-align: right;\n",
       "    }\n",
       "</style>\n",
       "<table border=\"1\" class=\"dataframe\">\n",
       "  <thead>\n",
       "    <tr style=\"text-align: right;\">\n",
       "      <th></th>\n",
       "      <th>Pclass</th>\n",
       "      <th>Sex</th>\n",
       "      <th>SibSp</th>\n",
       "      <th>Parch</th>\n",
       "      <th>Fare</th>\n",
       "      <th>Embarked</th>\n",
       "      <th>Name_Title</th>\n",
       "    </tr>\n",
       "  </thead>\n",
       "  <tbody>\n",
       "    <tr>\n",
       "      <th>0</th>\n",
       "      <td>3</td>\n",
       "      <td>0</td>\n",
       "      <td>0</td>\n",
       "      <td>0</td>\n",
       "      <td>(-0.512, 102.466]</td>\n",
       "      <td>Q</td>\n",
       "      <td>Mr</td>\n",
       "    </tr>\n",
       "  </tbody>\n",
       "</table>\n",
       "</div>"
      ],
      "text/plain": [
       "   Pclass  Sex  SibSp  Parch               Fare Embarked Name_Title\n",
       "0       3    0      0      0  (-0.512, 102.466]        Q         Mr"
      ]
     },
     "execution_count": 65,
     "metadata": {},
     "output_type": "execute_result"
    }
   ],
   "source": [
    "df_bin_test.head(1)"
   ]
  },
  {
   "cell_type": "code",
   "execution_count": 66,
   "id": "238e6441",
   "metadata": {
    "execution": {
     "iopub.execute_input": "2021-09-12T21:12:18.187569Z",
     "iopub.status.busy": "2021-09-12T21:12:18.186838Z",
     "iopub.status.idle": "2021-09-12T21:12:18.215795Z",
     "shell.execute_reply": "2021-09-12T21:12:18.216419Z",
     "shell.execute_reply.started": "2021-09-12T21:03:34.396814Z"
    },
    "papermill": {
     "duration": 0.148854,
     "end_time": "2021-09-12T21:12:18.216596",
     "exception": false,
     "start_time": "2021-09-12T21:12:18.067742",
     "status": "completed"
    },
    "tags": []
   },
   "outputs": [
    {
     "data": {
      "text/html": [
       "<div>\n",
       "<style scoped>\n",
       "    .dataframe tbody tr th:only-of-type {\n",
       "        vertical-align: middle;\n",
       "    }\n",
       "\n",
       "    .dataframe tbody tr th {\n",
       "        vertical-align: top;\n",
       "    }\n",
       "\n",
       "    .dataframe thead th {\n",
       "        text-align: right;\n",
       "    }\n",
       "</style>\n",
       "<table border=\"1\" class=\"dataframe\">\n",
       "  <thead>\n",
       "    <tr style=\"text-align: right;\">\n",
       "      <th></th>\n",
       "      <th>Pclass_1</th>\n",
       "      <th>Pclass_2</th>\n",
       "      <th>Pclass_3</th>\n",
       "      <th>Sex_0</th>\n",
       "      <th>Sex_1</th>\n",
       "      <th>SibSp_0</th>\n",
       "      <th>SibSp_1</th>\n",
       "      <th>SibSp_2</th>\n",
       "      <th>SibSp_3</th>\n",
       "      <th>SibSp_4</th>\n",
       "      <th>SibSp_5</th>\n",
       "      <th>SibSp_8</th>\n",
       "      <th>Parch_0</th>\n",
       "      <th>Parch_1</th>\n",
       "      <th>Parch_2</th>\n",
       "      <th>Parch_3</th>\n",
       "      <th>Parch_4</th>\n",
       "      <th>Parch_5</th>\n",
       "      <th>Parch_6</th>\n",
       "      <th>Parch_9</th>\n",
       "      <th>Fare_(-0.512, 102.466]</th>\n",
       "      <th>Fare_(102.466, 204.932]</th>\n",
       "      <th>Fare_(204.932, 307.398]</th>\n",
       "      <th>Fare_(307.398, 409.863]</th>\n",
       "      <th>Fare_(409.863, 512.329]</th>\n",
       "      <th>Embarked_C</th>\n",
       "      <th>Embarked_Q</th>\n",
       "      <th>Embarked_S</th>\n",
       "      <th>Name_Title_Col</th>\n",
       "      <th>Name_Title_Dona</th>\n",
       "      <th>Name_Title_Dr</th>\n",
       "      <th>Name_Title_Master</th>\n",
       "      <th>Name_Title_Miss</th>\n",
       "      <th>Name_Title_Mr</th>\n",
       "      <th>Name_Title_Mrs</th>\n",
       "      <th>Name_Title_Ms</th>\n",
       "      <th>Name_Title_Rev</th>\n",
       "    </tr>\n",
       "  </thead>\n",
       "  <tbody>\n",
       "    <tr>\n",
       "      <th>0</th>\n",
       "      <td>0</td>\n",
       "      <td>0</td>\n",
       "      <td>1</td>\n",
       "      <td>1</td>\n",
       "      <td>0</td>\n",
       "      <td>1</td>\n",
       "      <td>0</td>\n",
       "      <td>0</td>\n",
       "      <td>0</td>\n",
       "      <td>0</td>\n",
       "      <td>0</td>\n",
       "      <td>0</td>\n",
       "      <td>1</td>\n",
       "      <td>0</td>\n",
       "      <td>0</td>\n",
       "      <td>0</td>\n",
       "      <td>0</td>\n",
       "      <td>0</td>\n",
       "      <td>0</td>\n",
       "      <td>0</td>\n",
       "      <td>1</td>\n",
       "      <td>0</td>\n",
       "      <td>0</td>\n",
       "      <td>0</td>\n",
       "      <td>0</td>\n",
       "      <td>0</td>\n",
       "      <td>1</td>\n",
       "      <td>0</td>\n",
       "      <td>0</td>\n",
       "      <td>0</td>\n",
       "      <td>0</td>\n",
       "      <td>0</td>\n",
       "      <td>0</td>\n",
       "      <td>1</td>\n",
       "      <td>0</td>\n",
       "      <td>0</td>\n",
       "      <td>0</td>\n",
       "    </tr>\n",
       "    <tr>\n",
       "      <th>1</th>\n",
       "      <td>0</td>\n",
       "      <td>0</td>\n",
       "      <td>1</td>\n",
       "      <td>0</td>\n",
       "      <td>1</td>\n",
       "      <td>0</td>\n",
       "      <td>1</td>\n",
       "      <td>0</td>\n",
       "      <td>0</td>\n",
       "      <td>0</td>\n",
       "      <td>0</td>\n",
       "      <td>0</td>\n",
       "      <td>1</td>\n",
       "      <td>0</td>\n",
       "      <td>0</td>\n",
       "      <td>0</td>\n",
       "      <td>0</td>\n",
       "      <td>0</td>\n",
       "      <td>0</td>\n",
       "      <td>0</td>\n",
       "      <td>1</td>\n",
       "      <td>0</td>\n",
       "      <td>0</td>\n",
       "      <td>0</td>\n",
       "      <td>0</td>\n",
       "      <td>0</td>\n",
       "      <td>0</td>\n",
       "      <td>1</td>\n",
       "      <td>0</td>\n",
       "      <td>0</td>\n",
       "      <td>0</td>\n",
       "      <td>0</td>\n",
       "      <td>0</td>\n",
       "      <td>0</td>\n",
       "      <td>1</td>\n",
       "      <td>0</td>\n",
       "      <td>0</td>\n",
       "    </tr>\n",
       "    <tr>\n",
       "      <th>2</th>\n",
       "      <td>0</td>\n",
       "      <td>1</td>\n",
       "      <td>0</td>\n",
       "      <td>1</td>\n",
       "      <td>0</td>\n",
       "      <td>1</td>\n",
       "      <td>0</td>\n",
       "      <td>0</td>\n",
       "      <td>0</td>\n",
       "      <td>0</td>\n",
       "      <td>0</td>\n",
       "      <td>0</td>\n",
       "      <td>1</td>\n",
       "      <td>0</td>\n",
       "      <td>0</td>\n",
       "      <td>0</td>\n",
       "      <td>0</td>\n",
       "      <td>0</td>\n",
       "      <td>0</td>\n",
       "      <td>0</td>\n",
       "      <td>1</td>\n",
       "      <td>0</td>\n",
       "      <td>0</td>\n",
       "      <td>0</td>\n",
       "      <td>0</td>\n",
       "      <td>0</td>\n",
       "      <td>1</td>\n",
       "      <td>0</td>\n",
       "      <td>0</td>\n",
       "      <td>0</td>\n",
       "      <td>0</td>\n",
       "      <td>0</td>\n",
       "      <td>0</td>\n",
       "      <td>1</td>\n",
       "      <td>0</td>\n",
       "      <td>0</td>\n",
       "      <td>0</td>\n",
       "    </tr>\n",
       "    <tr>\n",
       "      <th>3</th>\n",
       "      <td>0</td>\n",
       "      <td>0</td>\n",
       "      <td>1</td>\n",
       "      <td>1</td>\n",
       "      <td>0</td>\n",
       "      <td>1</td>\n",
       "      <td>0</td>\n",
       "      <td>0</td>\n",
       "      <td>0</td>\n",
       "      <td>0</td>\n",
       "      <td>0</td>\n",
       "      <td>0</td>\n",
       "      <td>1</td>\n",
       "      <td>0</td>\n",
       "      <td>0</td>\n",
       "      <td>0</td>\n",
       "      <td>0</td>\n",
       "      <td>0</td>\n",
       "      <td>0</td>\n",
       "      <td>0</td>\n",
       "      <td>1</td>\n",
       "      <td>0</td>\n",
       "      <td>0</td>\n",
       "      <td>0</td>\n",
       "      <td>0</td>\n",
       "      <td>0</td>\n",
       "      <td>0</td>\n",
       "      <td>1</td>\n",
       "      <td>0</td>\n",
       "      <td>0</td>\n",
       "      <td>0</td>\n",
       "      <td>0</td>\n",
       "      <td>0</td>\n",
       "      <td>1</td>\n",
       "      <td>0</td>\n",
       "      <td>0</td>\n",
       "      <td>0</td>\n",
       "    </tr>\n",
       "    <tr>\n",
       "      <th>4</th>\n",
       "      <td>0</td>\n",
       "      <td>0</td>\n",
       "      <td>1</td>\n",
       "      <td>0</td>\n",
       "      <td>1</td>\n",
       "      <td>0</td>\n",
       "      <td>1</td>\n",
       "      <td>0</td>\n",
       "      <td>0</td>\n",
       "      <td>0</td>\n",
       "      <td>0</td>\n",
       "      <td>0</td>\n",
       "      <td>0</td>\n",
       "      <td>1</td>\n",
       "      <td>0</td>\n",
       "      <td>0</td>\n",
       "      <td>0</td>\n",
       "      <td>0</td>\n",
       "      <td>0</td>\n",
       "      <td>0</td>\n",
       "      <td>1</td>\n",
       "      <td>0</td>\n",
       "      <td>0</td>\n",
       "      <td>0</td>\n",
       "      <td>0</td>\n",
       "      <td>0</td>\n",
       "      <td>0</td>\n",
       "      <td>1</td>\n",
       "      <td>0</td>\n",
       "      <td>0</td>\n",
       "      <td>0</td>\n",
       "      <td>0</td>\n",
       "      <td>0</td>\n",
       "      <td>0</td>\n",
       "      <td>1</td>\n",
       "      <td>0</td>\n",
       "      <td>0</td>\n",
       "    </tr>\n",
       "  </tbody>\n",
       "</table>\n",
       "</div>"
      ],
      "text/plain": [
       "   Pclass_1  Pclass_2  Pclass_3  Sex_0  Sex_1  SibSp_0  SibSp_1  SibSp_2  SibSp_3  SibSp_4  SibSp_5  SibSp_8  Parch_0  Parch_1  Parch_2  Parch_3  Parch_4  Parch_5  Parch_6  Parch_9  Fare_(-0.512, 102.466]  Fare_(102.466, 204.932]  Fare_(204.932, 307.398]  Fare_(307.398, 409.863]  Fare_(409.863, 512.329]  Embarked_C  Embarked_Q  Embarked_S  Name_Title_Col  Name_Title_Dona  Name_Title_Dr  Name_Title_Master  Name_Title_Miss  Name_Title_Mr  Name_Title_Mrs  Name_Title_Ms  Name_Title_Rev\n",
       "0         0         0         1      1      0        1        0        0        0        0        0        0        1        0        0        0        0        0        0        0                       1                        0                        0                        0                        0           0           1           0               0                0              0                  0                0              1               0              0               0\n",
       "1         0         0         1      0      1        0        1        0        0        0        0        0        1        0        0        0        0        0        0        0                       1                        0                        0                        0                        0           0           0           1               0                0              0                  0                0              0               1              0               0\n",
       "2         0         1         0      1      0        1        0        0        0        0        0        0        1        0        0        0        0        0        0        0                       1                        0                        0                        0                        0           0           1           0               0                0              0                  0                0              1               0              0               0\n",
       "3         0         0         1      1      0        1        0        0        0        0        0        0        1        0        0        0        0        0        0        0                       1                        0                        0                        0                        0           0           0           1               0                0              0                  0                0              1               0              0               0\n",
       "4         0         0         1      0      1        0        1        0        0        0        0        0        0        1        0        0        0        0        0        0                       1                        0                        0                        0                        0           0           0           1               0                0              0                  0                0              0               1              0               0"
      ]
     },
     "execution_count": 66,
     "metadata": {},
     "output_type": "execute_result"
    }
   ],
   "source": [
    "# One-hot encode binned variables\n",
    "one_hot_cols = df_bin_test.columns.tolist()\n",
    "#one_hot_cols.remove('Survived')\n",
    "df_bin_enc_test = pd.get_dummies(df_bin_test, columns=one_hot_cols)\n",
    "\n",
    "df_bin_enc_test.head()"
   ]
  },
  {
   "cell_type": "code",
   "execution_count": 67,
   "id": "16f3d6e8",
   "metadata": {
    "execution": {
     "iopub.execute_input": "2021-09-12T21:12:18.453688Z",
     "iopub.status.busy": "2021-09-12T21:12:18.452878Z",
     "iopub.status.idle": "2021-09-12T21:12:18.458402Z",
     "shell.execute_reply": "2021-09-12T21:12:18.459039Z",
     "shell.execute_reply.started": "2021-09-12T21:03:34.438550Z"
    },
    "papermill": {
     "duration": 0.125575,
     "end_time": "2021-09-12T21:12:18.459240",
     "exception": false,
     "start_time": "2021-09-12T21:12:18.333665",
     "status": "completed"
    },
    "tags": []
   },
   "outputs": [],
   "source": [
    "X_train = df_bin_enc.drop(['Survived'], axis=1)\n",
    "X_test = df_bin_enc_test\n",
    "y_train = df_bin_enc['Survived']"
   ]
  },
  {
   "cell_type": "code",
   "execution_count": 68,
   "id": "670e5e0e",
   "metadata": {
    "execution": {
     "iopub.execute_input": "2021-09-12T21:12:18.700235Z",
     "iopub.status.busy": "2021-09-12T21:12:18.699522Z",
     "iopub.status.idle": "2021-09-12T21:12:18.705478Z",
     "shell.execute_reply": "2021-09-12T21:12:18.705937Z",
     "shell.execute_reply.started": "2021-09-12T21:03:34.449361Z"
    },
    "papermill": {
     "duration": 0.128399,
     "end_time": "2021-09-12T21:12:18.706108",
     "exception": false,
     "start_time": "2021-09-12T21:12:18.577709",
     "status": "completed"
    },
    "tags": []
   },
   "outputs": [
    {
     "data": {
      "text/plain": [
       "Index(['Name_Title_Capt', 'Name_Title_Don', 'Name_Title_Jonkheer', 'Name_Title_Lady', 'Name_Title_Major', 'Name_Title_Mlle', 'Name_Title_Mme', 'Name_Title_Sir', 'Name_Title_the Countess'], dtype='object')"
      ]
     },
     "execution_count": 68,
     "metadata": {},
     "output_type": "execute_result"
    }
   ],
   "source": [
    "train_cols = X_train.columns\n",
    "test_cols = X_test.columns\n",
    "\n",
    "common_cols = train_cols.intersection(test_cols)\n",
    "train_not_test = train_cols.difference(test_cols)\n",
    "\n",
    "train_not_test"
   ]
  },
  {
   "cell_type": "code",
   "execution_count": 69,
   "id": "238c7f88",
   "metadata": {
    "execution": {
     "iopub.execute_input": "2021-09-12T21:12:18.948228Z",
     "iopub.status.busy": "2021-09-12T21:12:18.945102Z",
     "iopub.status.idle": "2021-09-12T21:12:18.950987Z",
     "shell.execute_reply": "2021-09-12T21:12:18.950466Z",
     "shell.execute_reply.started": "2021-09-12T21:03:34.465917Z"
    },
    "papermill": {
     "duration": 0.126672,
     "end_time": "2021-09-12T21:12:18.951135",
     "exception": false,
     "start_time": "2021-09-12T21:12:18.824463",
     "status": "completed"
    },
    "tags": []
   },
   "outputs": [],
   "source": [
    "X_train = X_train.drop(['Name_Title_Capt', 'Name_Title_Don', 'Name_Title_Jonkheer', 'Name_Title_Lady', 'Name_Title_Major', 'Name_Title_Mlle', 'Name_Title_Mme', 'Name_Title_Sir', 'Name_Title_the Countess'], axis=1)"
   ]
  },
  {
   "cell_type": "code",
   "execution_count": 70,
   "id": "664cd2f9",
   "metadata": {
    "execution": {
     "iopub.execute_input": "2021-09-12T21:12:19.193367Z",
     "iopub.status.busy": "2021-09-12T21:12:19.190840Z",
     "iopub.status.idle": "2021-09-12T21:12:19.203477Z",
     "shell.execute_reply": "2021-09-12T21:12:19.202710Z",
     "shell.execute_reply.started": "2021-09-12T21:04:12.017800Z"
    },
    "papermill": {
     "duration": 0.133742,
     "end_time": "2021-09-12T21:12:19.203627",
     "exception": false,
     "start_time": "2021-09-12T21:12:19.069885",
     "status": "completed"
    },
    "tags": []
   },
   "outputs": [],
   "source": [
    "train['train_test'] = 1\n",
    "test['train_test'] = 0\n",
    "test['Survived'] = np.NaN\n",
    "all_data = pd.concat([train,test])"
   ]
  },
  {
   "cell_type": "code",
   "execution_count": 71,
   "id": "1d407243",
   "metadata": {
    "execution": {
     "iopub.execute_input": "2021-09-12T21:12:19.464354Z",
     "iopub.status.busy": "2021-09-12T21:12:19.463474Z",
     "iopub.status.idle": "2021-09-12T21:12:19.734396Z",
     "shell.execute_reply": "2021-09-12T21:12:19.733365Z",
     "shell.execute_reply.started": "2021-09-12T21:05:20.337503Z"
    },
    "papermill": {
     "duration": 0.413599,
     "end_time": "2021-09-12T21:12:19.734556",
     "exception": false,
     "start_time": "2021-09-12T21:12:19.320957",
     "status": "completed"
    },
    "tags": []
   },
   "outputs": [
    {
     "data": {
      "text/plain": [
       "(889,)"
      ]
     },
     "execution_count": 71,
     "metadata": {},
     "output_type": "execute_result"
    },
    {
     "data": {
      "image/png": "[encoded data removed]",
      "text/plain": [
       "<Figure size 432x288 with 1 Axes>"
      ]
     },
     "metadata": {},
     "output_type": "display_data"
    }
   ],
   "source": [
    "#create all categorical variables that we did above for both training and test sets \n",
    "all_data['cabin_multiple'] = all_data.Cabin.apply(lambda x: 0 if pd.isna(x) else len(x.split(' ')))\n",
    "all_data['cabin_adv'] = all_data.Cabin.apply(lambda x: str(x)[0])\n",
    "all_data['numeric_ticket'] = all_data.Ticket.apply(lambda x: 1 if x.isnumeric() else 0)\n",
    "all_data['ticket_letters'] = all_data.Ticket.apply(lambda x: ''.join(x.split(' ')[:-1]).replace('.','').replace('/','').lower() if len(x.split(' ')[:-1]) >0 else 0)\n",
    "all_data['name_title'] = all_data.Name.apply(lambda x: x.split(',')[1].split('.')[0].strip())\n",
    "\n",
    "#impute nulls for continuous data \n",
    "#all_data.Age = all_data.Age.fillna(train.Age.mean())\n",
    "all_data.Age = all_data.Age.fillna(train.Age.median())\n",
    "#all_data.Fare = all_data.Fare.fillna(train.Fare.mean())\n",
    "all_data.Fare = all_data.Fare.fillna(train.Fare.median())\n",
    "\n",
    "#drop null 'embarked' rows. Only 2 instances of this in training and 0 in test \n",
    "all_data.dropna(subset=['Embarked'],inplace = True)\n",
    "\n",
    "#tried log norm of sibsp (not used)\n",
    "all_data['norm_sibsp'] = np.log(all_data.SibSp+1)\n",
    "all_data['norm_sibsp'].hist()\n",
    "\n",
    "# log norm of fare (used)\n",
    "all_data['norm_fare'] = np.log(all_data.Fare+1)\n",
    "all_data['norm_fare'].hist()\n",
    "\n",
    "# converted fare to category for pd.get_dummies()\n",
    "all_data.Pclass = all_data.Pclass.astype(str)\n",
    "\n",
    "#created dummy variables from categories (also can use OneHotEncoder)\n",
    "all_dummies = pd.get_dummies(all_data[['Pclass','Sex','Age','SibSp','Parch','norm_fare','Embarked','cabin_adv','cabin_multiple','numeric_ticket','name_title','train_test']])\n",
    "\n",
    "#Split to train test again\n",
    "X_train = all_dummies[all_dummies.train_test == 1].drop(['train_test'], axis =1)\n",
    "X_test = all_dummies[all_dummies.train_test == 0].drop(['train_test'], axis =1)\n",
    "\n",
    "\n",
    "y_train = all_data[all_data.train_test==1].Survived\n",
    "y_train.shape"
   ]
  },
  {
   "cell_type": "code",
   "execution_count": 72,
   "id": "5d7bf566",
   "metadata": {
    "execution": {
     "iopub.execute_input": "2021-09-12T21:12:19.983885Z",
     "iopub.status.busy": "2021-09-12T21:12:19.983166Z",
     "iopub.status.idle": "2021-09-12T21:12:19.990962Z",
     "shell.execute_reply": "2021-09-12T21:12:19.991480Z",
     "shell.execute_reply.started": "2021-09-12T21:05:23.575382Z"
    },
    "papermill": {
     "duration": 0.139654,
     "end_time": "2021-09-12T21:12:19.991662",
     "exception": false,
     "start_time": "2021-09-12T21:12:19.852008",
     "status": "completed"
    },
    "tags": []
   },
   "outputs": [],
   "source": [
    "# Scale data \n",
    "from sklearn.preprocessing import StandardScaler\n",
    "scale = StandardScaler()\n",
    "all_dummies_scaled = all_dummies.copy()\n",
    "all_dummies_scaled[['Age','SibSp','Parch','norm_fare']]= scale.fit_transform(all_dummies_scaled[['Age','SibSp','Parch','norm_fare']])\n",
    "all_dummies_scaled\n",
    "\n",
    "X_train_scaled = all_dummies_scaled[all_dummies_scaled.train_test == 1].drop(['train_test'], axis =1)\n",
    "X_test_scaled = all_dummies_scaled[all_dummies_scaled.train_test == 0].drop(['train_test'], axis =1)\n",
    "\n",
    "y_train = all_data[all_data.train_test==1].Survived\n"
   ]
  },
  {
   "cell_type": "markdown",
   "id": "b135d2df",
   "metadata": {
    "papermill": {
     "duration": 0.117921,
     "end_time": "2021-09-12T21:12:20.228701",
     "exception": false,
     "start_time": "2021-09-12T21:12:20.110780",
     "status": "completed"
    },
    "tags": []
   },
   "source": [
    "##  Model Building"
   ]
  },
  {
   "cell_type": "code",
   "execution_count": 73,
   "id": "5f159b76",
   "metadata": {
    "execution": {
     "iopub.execute_input": "2021-09-12T21:12:20.468680Z",
     "iopub.status.busy": "2021-09-12T21:12:20.467773Z",
     "iopub.status.idle": "2021-09-12T21:12:20.473401Z",
     "shell.execute_reply": "2021-09-12T21:12:20.472870Z",
     "shell.execute_reply.started": "2021-09-12T21:05:35.786804Z"
    },
    "papermill": {
     "duration": 0.126524,
     "end_time": "2021-09-12T21:12:20.473557",
     "exception": false,
     "start_time": "2021-09-12T21:12:20.347033",
     "status": "completed"
    },
    "tags": []
   },
   "outputs": [],
   "source": [
    "from sklearn.model_selection import cross_val_score\n",
    "from sklearn.naive_bayes import GaussianNB\n",
    "from sklearn.linear_model import LogisticRegression\n",
    "from sklearn import tree\n",
    "from sklearn.neighbors import KNeighborsClassifier\n",
    "from sklearn.ensemble import RandomForestClassifier\n",
    "from sklearn.svm import SVC"
   ]
  },
  {
   "cell_type": "markdown",
   "id": "8c3c52ed",
   "metadata": {
    "papermill": {
     "duration": 0.117218,
     "end_time": "2021-09-12T21:12:20.709085",
     "exception": false,
     "start_time": "2021-09-12T21:12:20.591867",
     "status": "completed"
    },
    "tags": []
   },
   "source": [
    "##### Naive"
   ]
  },
  {
   "cell_type": "code",
   "execution_count": 74,
   "id": "1ef531be",
   "metadata": {
    "execution": {
     "iopub.execute_input": "2021-09-12T21:12:20.951814Z",
     "iopub.status.busy": "2021-09-12T21:12:20.951128Z",
     "iopub.status.idle": "2021-09-12T21:12:20.984844Z",
     "shell.execute_reply": "2021-09-12T21:12:20.985325Z",
     "shell.execute_reply.started": "2021-09-12T21:05:38.090820Z"
    },
    "papermill": {
     "duration": 0.158845,
     "end_time": "2021-09-12T21:12:20.985502",
     "exception": false,
     "start_time": "2021-09-12T21:12:20.826657",
     "status": "completed"
    },
    "tags": []
   },
   "outputs": [
    {
     "name": "stdout",
     "output_type": "stream",
     "text": [
      "[0.66853933 0.70224719 0.76966292 0.75842697 0.72881356]\n",
      "0.7255379927632831\n"
     ]
    }
   ],
   "source": [
    "# Naive Bayes as a baseline for my classification tasks \n",
    "gnb = GaussianNB()\n",
    "cv = cross_val_score(gnb,X_train,y_train,cv=5)\n",
    "print(cv)\n",
    "print(cv.mean())"
   ]
  },
  {
   "cell_type": "markdown",
   "id": "62c04db4",
   "metadata": {
    "papermill": {
     "duration": 0.117503,
     "end_time": "2021-09-12T21:12:21.220633",
     "exception": false,
     "start_time": "2021-09-12T21:12:21.103130",
     "status": "completed"
    },
    "tags": []
   },
   "source": [
    "##### Logistic Regression"
   ]
  },
  {
   "cell_type": "code",
   "execution_count": 75,
   "id": "1309296f",
   "metadata": {
    "execution": {
     "iopub.execute_input": "2021-09-12T21:12:21.459630Z",
     "iopub.status.busy": "2021-09-12T21:12:21.458644Z",
     "iopub.status.idle": "2021-09-12T21:12:22.520282Z",
     "shell.execute_reply": "2021-09-12T21:12:22.521183Z",
     "shell.execute_reply.started": "2021-09-12T21:05:39.307233Z"
    },
    "papermill": {
     "duration": 1.183357,
     "end_time": "2021-09-12T21:12:22.521447",
     "exception": false,
     "start_time": "2021-09-12T21:12:21.338090",
     "status": "completed"
    },
    "tags": []
   },
   "outputs": [
    {
     "name": "stdout",
     "output_type": "stream",
     "text": [
      "[0.8258427  0.80898876 0.80337079 0.82022472 0.85310734]\n",
      "0.8223068621849807\n"
     ]
    }
   ],
   "source": [
    "lr = LogisticRegression(max_iter = 2000)\n",
    "cv = cross_val_score(lr,X_train,y_train,cv=5)\n",
    "print(cv)\n",
    "print(cv.mean())"
   ]
  },
  {
   "cell_type": "markdown",
   "id": "f359281c",
   "metadata": {
    "papermill": {
     "duration": 0.117623,
     "end_time": "2021-09-12T21:12:22.805724",
     "exception": false,
     "start_time": "2021-09-12T21:12:22.688101",
     "status": "completed"
    },
    "tags": []
   },
   "source": [
    "##### Decision Tree"
   ]
  },
  {
   "cell_type": "code",
   "execution_count": 76,
   "id": "eb536874",
   "metadata": {
    "execution": {
     "iopub.execute_input": "2021-09-12T21:12:23.050160Z",
     "iopub.status.busy": "2021-09-12T21:12:23.049106Z",
     "iopub.status.idle": "2021-09-12T21:12:23.098355Z",
     "shell.execute_reply": "2021-09-12T21:12:23.097817Z",
     "shell.execute_reply.started": "2021-09-12T21:05:41.942805Z"
    },
    "papermill": {
     "duration": 0.174821,
     "end_time": "2021-09-12T21:12:23.098489",
     "exception": false,
     "start_time": "2021-09-12T21:12:22.923668",
     "status": "completed"
    },
    "tags": []
   },
   "outputs": [
    {
     "name": "stdout",
     "output_type": "stream",
     "text": [
      "[0.75842697 0.74719101 0.8258427  0.74719101 0.8079096 ]\n",
      "0.7773122579826065\n"
     ]
    }
   ],
   "source": [
    "dt = tree.DecisionTreeClassifier(random_state = 1)\n",
    "cv = cross_val_score(dt,X_train,y_train,cv=5)\n",
    "print(cv)\n",
    "print(cv.mean())"
   ]
  },
  {
   "cell_type": "markdown",
   "id": "2a58b3d5",
   "metadata": {
    "papermill": {
     "duration": 0.11829,
     "end_time": "2021-09-12T21:12:23.336149",
     "exception": false,
     "start_time": "2021-09-12T21:12:23.217859",
     "status": "completed"
    },
    "tags": []
   },
   "source": [
    "##### K nearest neughbour"
   ]
  },
  {
   "cell_type": "code",
   "execution_count": 77,
   "id": "c4460f33",
   "metadata": {
    "execution": {
     "iopub.execute_input": "2021-09-12T21:12:23.582484Z",
     "iopub.status.busy": "2021-09-12T21:12:23.581849Z",
     "iopub.status.idle": "2021-09-12T21:12:23.675157Z",
     "shell.execute_reply": "2021-09-12T21:12:23.675621Z",
     "shell.execute_reply.started": "2021-09-12T21:05:42.414918Z"
    },
    "papermill": {
     "duration": 0.219588,
     "end_time": "2021-09-12T21:12:23.675792",
     "exception": false,
     "start_time": "2021-09-12T21:12:23.456204",
     "status": "completed"
    },
    "tags": []
   },
   "outputs": [
    {
     "name": "stdout",
     "output_type": "stream",
     "text": [
      "[0.76966292 0.79775281 0.80898876 0.82022472 0.85310734]\n",
      "0.8099473116231829\n"
     ]
    }
   ],
   "source": [
    "knn = KNeighborsClassifier()\n",
    "cv = cross_val_score(knn,X_train,y_train,cv=5)\n",
    "print(cv)\n",
    "print(cv.mean())"
   ]
  },
  {
   "cell_type": "markdown",
   "id": "aec9419e",
   "metadata": {
    "papermill": {
     "duration": 0.120621,
     "end_time": "2021-09-12T21:12:23.915268",
     "exception": false,
     "start_time": "2021-09-12T21:12:23.794647",
     "status": "completed"
    },
    "tags": []
   },
   "source": [
    "##### Random Forest"
   ]
  },
  {
   "cell_type": "code",
   "execution_count": 78,
   "id": "44cfed0e",
   "metadata": {
    "execution": {
     "iopub.execute_input": "2021-09-12T21:12:24.160858Z",
     "iopub.status.busy": "2021-09-12T21:12:24.160153Z",
     "iopub.status.idle": "2021-09-12T21:12:25.398480Z",
     "shell.execute_reply": "2021-09-12T21:12:25.399237Z",
     "shell.execute_reply.started": "2021-09-12T21:05:44.317317Z"
    },
    "papermill": {
     "duration": 1.364519,
     "end_time": "2021-09-12T21:12:25.399466",
     "exception": false,
     "start_time": "2021-09-12T21:12:24.034947",
     "status": "completed"
    },
    "tags": []
   },
   "outputs": [
    {
     "name": "stdout",
     "output_type": "stream",
     "text": [
      "[0.80898876 0.79213483 0.84831461 0.73595506 0.82485876]\n",
      "0.8020504030978227\n"
     ]
    }
   ],
   "source": [
    "rf = RandomForestClassifier(random_state = 1)\n",
    "cv = cross_val_score(rf,X_train,y_train,cv=5)\n",
    "print(cv)\n",
    "print(cv.mean())"
   ]
  },
  {
   "cell_type": "markdown",
   "id": "c8c6daf8",
   "metadata": {
    "papermill": {
     "duration": 0.137666,
     "end_time": "2021-09-12T21:12:25.665943",
     "exception": false,
     "start_time": "2021-09-12T21:12:25.528277",
     "status": "completed"
    },
    "tags": []
   },
   "source": [
    "##### Support Vector Machine"
   ]
  },
  {
   "cell_type": "code",
   "execution_count": 79,
   "id": "3b5257d6",
   "metadata": {
    "execution": {
     "iopub.execute_input": "2021-09-12T21:12:25.908309Z",
     "iopub.status.busy": "2021-09-12T21:12:25.907582Z",
     "iopub.status.idle": "2021-09-12T21:12:26.971393Z",
     "shell.execute_reply": "2021-09-12T21:12:26.971921Z",
     "shell.execute_reply.started": "2021-09-12T21:05:46.816415Z"
    },
    "papermill": {
     "duration": 1.186705,
     "end_time": "2021-09-12T21:12:26.972093",
     "exception": false,
     "start_time": "2021-09-12T21:12:25.785388",
     "status": "completed"
    },
    "tags": []
   },
   "outputs": [
    {
     "name": "stdout",
     "output_type": "stream",
     "text": [
      "[0.69101124 0.76966292 0.71348315 0.71910112 0.74011299]\n",
      "0.7266742842633149\n"
     ]
    }
   ],
   "source": [
    "svc = SVC(probability = True)\n",
    "cv = cross_val_score(svc,X_train,y_train,cv=5)\n",
    "print(cv)\n",
    "print(cv.mean())"
   ]
  },
  {
   "cell_type": "code",
   "execution_count": 80,
   "id": "d3f55dfa",
   "metadata": {
    "execution": {
     "iopub.execute_input": "2021-09-12T21:12:27.219564Z",
     "iopub.status.busy": "2021-09-12T21:12:27.218889Z",
     "iopub.status.idle": "2021-09-12T21:12:27.222003Z",
     "shell.execute_reply": "2021-09-12T21:12:27.221354Z",
     "shell.execute_reply.started": "2021-09-12T21:05:48.793205Z"
    },
    "papermill": {
     "duration": 0.129456,
     "end_time": "2021-09-12T21:12:27.222140",
     "exception": false,
     "start_time": "2021-09-12T21:12:27.092684",
     "status": "completed"
    },
    "tags": []
   },
   "outputs": [],
   "source": [
    "#Voting classifier takes all of the inputs and averages the results. For a \"hard\" voting classifier each classifier gets 1 vote \"yes\" or \"no\" and the result is just a popular vote. For this, you generally want odd numbers\n",
    "#A \"soft\" classifier averages the confidence of each of the models. If a the average confidence is > 50% that it is a 1 it will be counted as such\n",
    "from sklearn.ensemble import VotingClassifier\n",
    "voting_clf = VotingClassifier(estimators = [('lr',lr),('knn',knn),('rf',rf),('gnb',gnb),('svc',svc)], voting = 'soft') "
   ]
  },
  {
   "cell_type": "code",
   "execution_count": 81,
   "id": "b798ed4e",
   "metadata": {
    "execution": {
     "iopub.execute_input": "2021-09-12T21:12:27.464117Z",
     "iopub.status.busy": "2021-09-12T21:12:27.463449Z",
     "iopub.status.idle": "2021-09-12T21:12:31.164384Z",
     "shell.execute_reply": "2021-09-12T21:12:31.165142Z",
     "shell.execute_reply.started": "2021-09-12T21:05:49.215839Z"
    },
    "papermill": {
     "duration": 3.824022,
     "end_time": "2021-09-12T21:12:31.165386",
     "exception": false,
     "start_time": "2021-09-12T21:12:27.341364",
     "status": "completed"
    },
    "tags": []
   },
   "outputs": [
    {
     "name": "stdout",
     "output_type": "stream",
     "text": [
      "[0.78651685 0.78651685 0.80898876 0.79775281 0.85875706]\n",
      "0.8077064686091537\n"
     ]
    }
   ],
   "source": [
    "cv = cross_val_score(voting_clf,X_train,y_train,cv=5)\n",
    "print(cv)\n",
    "print(cv.mean())"
   ]
  },
  {
   "cell_type": "code",
   "execution_count": 82,
   "id": "4c0e5346",
   "metadata": {
    "execution": {
     "iopub.execute_input": "2021-09-12T21:12:31.417447Z",
     "iopub.status.busy": "2021-09-12T21:12:31.416460Z",
     "iopub.status.idle": "2021-09-12T21:12:32.413436Z",
     "shell.execute_reply": "2021-09-12T21:12:32.414311Z",
     "shell.execute_reply.started": "2021-09-12T21:05:52.859026Z"
    },
    "papermill": {
     "duration": 1.126015,
     "end_time": "2021-09-12T21:12:32.414570",
     "exception": false,
     "start_time": "2021-09-12T21:12:31.288555",
     "status": "completed"
    },
    "tags": []
   },
   "outputs": [],
   "source": [
    "voting_clf.fit(X_train,y_train)\n",
    "y_hat_base_vc = voting_clf.predict(X_test).astype(int)\n",
    "basic_submission = {'PassengerId': test.PassengerId, 'Survived': y_hat_base_vc}\n",
    "base_submission = pd.DataFrame(data=basic_submission)\n",
    "base_submission.to_csv('base_submission.csv', index=False)"
   ]
  },
  {
   "cell_type": "code",
   "execution_count": null,
   "id": "b1596596",
   "metadata": {
    "papermill": {
     "duration": 0.120825,
     "end_time": "2021-09-12T21:12:32.665283",
     "exception": false,
     "start_time": "2021-09-12T21:12:32.544458",
     "status": "completed"
    },
    "tags": []
   },
   "outputs": [],
   "source": []
  },
  {
   "cell_type": "markdown",
   "id": "c4a2c922",
   "metadata": {
    "papermill": {
     "duration": 0.120818,
     "end_time": "2021-09-12T21:12:32.906369",
     "exception": false,
     "start_time": "2021-09-12T21:12:32.785551",
     "status": "completed"
    },
    "tags": []
   },
   "source": [
    "## Model Tuning"
   ]
  },
  {
   "cell_type": "markdown",
   "id": "2b4442f3",
   "metadata": {
    "papermill": {
     "duration": 0.119742,
     "end_time": "2021-09-12T21:12:33.147211",
     "exception": false,
     "start_time": "2021-09-12T21:12:33.027469",
     "status": "completed"
    },
    "tags": []
   },
   "source": [
    "## Ensemble Model Building"
   ]
  },
  {
   "cell_type": "code",
   "execution_count": null,
   "id": "4390a256",
   "metadata": {
    "papermill": {
     "duration": 0.119918,
     "end_time": "2021-09-12T21:12:33.387518",
     "exception": false,
     "start_time": "2021-09-12T21:12:33.267600",
     "status": "completed"
    },
    "tags": []
   },
   "outputs": [],
   "source": []
  },
  {
   "cell_type": "markdown",
   "id": "89a9067c",
   "metadata": {
    "papermill": {
     "duration": 0.120013,
     "end_time": "2021-09-12T21:12:33.628143",
     "exception": false,
     "start_time": "2021-09-12T21:12:33.508130",
     "status": "completed"
    },
    "tags": []
   },
   "source": [
    "## Results"
   ]
  },
  {
   "cell_type": "code",
   "execution_count": 83,
   "id": "6dbbd8ca",
   "metadata": {
    "execution": {
     "iopub.execute_input": "2021-09-12T21:12:33.874972Z",
     "iopub.status.busy": "2021-09-12T21:12:33.873854Z",
     "iopub.status.idle": "2021-09-12T21:12:33.876105Z",
     "shell.execute_reply": "2021-09-12T21:12:33.876599Z",
     "shell.execute_reply.started": "2021-09-12T21:10:25.737918Z"
    },
    "papermill": {
     "duration": 0.1286,
     "end_time": "2021-09-12T21:12:33.876770",
     "exception": false,
     "start_time": "2021-09-12T21:12:33.748170",
     "status": "completed"
    },
    "tags": []
   },
   "outputs": [],
   "source": [
    "#convert output to dataframe \n",
    "final_data = {'PassengerId': test.PassengerId, 'Survived': y_hat_base_vc}\n",
    "submission = pd.DataFrame(data=final_data)"
   ]
  },
  {
   "cell_type": "code",
   "execution_count": 84,
   "id": "d84c5fff",
   "metadata": {
    "execution": {
     "iopub.execute_input": "2021-09-12T21:12:34.125577Z",
     "iopub.status.busy": "2021-09-12T21:12:34.124873Z",
     "iopub.status.idle": "2021-09-12T21:12:34.129739Z",
     "shell.execute_reply": "2021-09-12T21:12:34.129197Z",
     "shell.execute_reply.started": "2021-09-12T21:10:45.027435Z"
    },
    "papermill": {
     "duration": 0.132215,
     "end_time": "2021-09-12T21:12:34.129902",
     "exception": false,
     "start_time": "2021-09-12T21:12:33.997687",
     "status": "completed"
    },
    "tags": []
   },
   "outputs": [],
   "source": [
    "#prepare submission files \n",
    "submission.to_csv('submission_rf.csv', index =False)"
   ]
  },
  {
   "cell_type": "code",
   "execution_count": null,
   "id": "71f1c9bc",
   "metadata": {
    "papermill": {
     "duration": 0.119623,
     "end_time": "2021-09-12T21:12:34.370310",
     "exception": false,
     "start_time": "2021-09-12T21:12:34.250687",
     "status": "completed"
    },
    "tags": []
   },
   "outputs": [],
   "source": []
  }
 ],
 "metadata": {
  "kernelspec": {
   "display_name": "Python 3",
   "language": "python",
   "name": "python3"
  },
  "language_info": {
   "codemirror_mode": {
    "name": "ipython",
    "version": 3
   },
   "file_extension": ".py",
   "mimetype": "text/x-python",
   "name": "python",
   "nbconvert_exporter": "python",
   "pygments_lexer": "ipython3",
   "version": "3.7.10"
  },
  "papermill": {
   "default_parameters": {},
   "duration": 62.919574,
   "end_time": "2021-09-12T21:12:35.401526",
   "environment_variables": {},
   "exception": null,
   "input_path": "__notebook__.ipynb",
   "output_path": "__notebook__.ipynb",
   "parameters": {},
   "start_time": "2021-09-12T21:11:32.481952",
   "version": "2.3.3"
  }
 },
 "nbformat": 4,
 "nbformat_minor": 5
}
